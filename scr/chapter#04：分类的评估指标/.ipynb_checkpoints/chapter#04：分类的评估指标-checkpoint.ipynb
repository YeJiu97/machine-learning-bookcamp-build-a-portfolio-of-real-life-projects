{
 "cells": [
  {
   "cell_type": "markdown",
   "id": "9e0efa42-354d-47b5-93a5-35e6b6480574",
   "metadata": {},
   "source": [
    "# 运行代码"
   ]
  },
  {
   "cell_type": "markdown",
   "id": "749e6696-706d-4717-afa8-b56ac173488f",
   "metadata": {},
   "source": [
    "这一部分是接着Chapter#03的部分，所以首先要将chapter#03的部分代码包括进来。"
   ]
  },
  {
   "cell_type": "code",
   "execution_count": 1,
   "id": "a1d0737a-2a1a-4e07-8545-bc8a6668328c",
   "metadata": {},
   "outputs": [],
   "source": [
    "# 导入必备的库\n",
    "import pandas as pd\n",
    "import numpy as np\n",
    "\n",
    "import seaborn as sns\n",
    "from matplotlib import pyplot as plt\n",
    "%matplotlib inline"
   ]
  },
  {
   "cell_type": "code",
   "execution_count": 2,
   "id": "1b592a83-9ddd-4d9a-972f-5d512c4a4b0e",
   "metadata": {},
   "outputs": [],
   "source": [
    "from sklearn.model_selection import train_test_split\n",
    "from sklearn.feature_extraction import DictVectorizer\n",
    "from sklearn.linear_model import LogisticRegression"
   ]
  },
  {
   "cell_type": "code",
   "execution_count": 3,
   "id": "c5458971-ff42-4a32-a0dc-62aa2e7d4f41",
   "metadata": {},
   "outputs": [],
   "source": [
    "df = pd.read_csv('WA_Fn-UseC_-Telco-Customer-Churn.csv')\n",
    "\n",
    "df['TotalCharges'] = pd.to_numeric(df['TotalCharges'], errors='coerce')\n",
    "df['TotalCharges'] = df['TotalCharges'].fillna(0)\n",
    "\n",
    "df.columns = df.columns.str.lower().str.replace(' ', '_')\n",
    "\n",
    "string_columns = list(df.dtypes[df.dtypes == 'object'].index)\n",
    "\n",
    "for col in string_columns:\n",
    "    df[col] = df[col].str.lower().str.replace(' ', '_')\n",
    "\n",
    "df.churn = (df.churn == 'yes').astype(int)"
   ]
  },
  {
   "cell_type": "code",
   "execution_count": 4,
   "id": "0979673f-69fa-48e3-a616-cbefa7032624",
   "metadata": {},
   "outputs": [],
   "source": [
    "df_train_full, df_test = train_test_split(df, test_size=0.2, random_state=1)\n",
    "df_train, df_val = train_test_split(df_train_full, test_size=0.33, random_state=11)\n",
    "\n",
    "y_train = df_train.churn.values\n",
    "y_val = df_val.churn.values\n",
    "\n",
    "del df_train['churn']\n",
    "del df_val['churn']"
   ]
  },
  {
   "cell_type": "code",
   "execution_count": 5,
   "id": "a1ae7308-4fda-4bb4-8094-db7a57888701",
   "metadata": {},
   "outputs": [],
   "source": [
    "categorical = ['gender', 'seniorcitizen', 'partner', 'dependents',\n",
    "               'phoneservice', 'multiplelines', 'internetservice',\n",
    "               'onlinesecurity', 'onlinebackup', 'deviceprotection',\n",
    "               'techsupport', 'streamingtv', 'streamingmovies',\n",
    "               'contract', 'paperlessbilling', 'paymentmethod']\n",
    "numerical = ['tenure', 'monthlycharges', 'totalcharges']"
   ]
  },
  {
   "cell_type": "code",
   "execution_count": 6,
   "id": "464ed035-cf9d-41e9-98f6-77ec5ea6352b",
   "metadata": {},
   "outputs": [],
   "source": [
    "train_dict = df_train[categorical + numerical].to_dict(orient='records')\n",
    "\n",
    "dv = DictVectorizer(sparse=False)\n",
    "dv.fit(train_dict)\n",
    "\n",
    "X_train = dv.transform(train_dict)"
   ]
  },
  {
   "cell_type": "code",
   "execution_count": 7,
   "id": "8292b63e-c52d-4ea7-8569-5dddb2ea587f",
   "metadata": {},
   "outputs": [
    {
     "data": {
      "text/html": [
       "<style>#sk-container-id-1 {\n",
       "  /* Definition of color scheme common for light and dark mode */\n",
       "  --sklearn-color-text: black;\n",
       "  --sklearn-color-line: gray;\n",
       "  /* Definition of color scheme for unfitted estimators */\n",
       "  --sklearn-color-unfitted-level-0: #fff5e6;\n",
       "  --sklearn-color-unfitted-level-1: #f6e4d2;\n",
       "  --sklearn-color-unfitted-level-2: #ffe0b3;\n",
       "  --sklearn-color-unfitted-level-3: chocolate;\n",
       "  /* Definition of color scheme for fitted estimators */\n",
       "  --sklearn-color-fitted-level-0: #f0f8ff;\n",
       "  --sklearn-color-fitted-level-1: #d4ebff;\n",
       "  --sklearn-color-fitted-level-2: #b3dbfd;\n",
       "  --sklearn-color-fitted-level-3: cornflowerblue;\n",
       "\n",
       "  /* Specific color for light theme */\n",
       "  --sklearn-color-text-on-default-background: var(--sg-text-color, var(--theme-code-foreground, var(--jp-content-font-color1, black)));\n",
       "  --sklearn-color-background: var(--sg-background-color, var(--theme-background, var(--jp-layout-color0, white)));\n",
       "  --sklearn-color-border-box: var(--sg-text-color, var(--theme-code-foreground, var(--jp-content-font-color1, black)));\n",
       "  --sklearn-color-icon: #696969;\n",
       "\n",
       "  @media (prefers-color-scheme: dark) {\n",
       "    /* Redefinition of color scheme for dark theme */\n",
       "    --sklearn-color-text-on-default-background: var(--sg-text-color, var(--theme-code-foreground, var(--jp-content-font-color1, white)));\n",
       "    --sklearn-color-background: var(--sg-background-color, var(--theme-background, var(--jp-layout-color0, #111)));\n",
       "    --sklearn-color-border-box: var(--sg-text-color, var(--theme-code-foreground, var(--jp-content-font-color1, white)));\n",
       "    --sklearn-color-icon: #878787;\n",
       "  }\n",
       "}\n",
       "\n",
       "#sk-container-id-1 {\n",
       "  color: var(--sklearn-color-text);\n",
       "}\n",
       "\n",
       "#sk-container-id-1 pre {\n",
       "  padding: 0;\n",
       "}\n",
       "\n",
       "#sk-container-id-1 input.sk-hidden--visually {\n",
       "  border: 0;\n",
       "  clip: rect(1px 1px 1px 1px);\n",
       "  clip: rect(1px, 1px, 1px, 1px);\n",
       "  height: 1px;\n",
       "  margin: -1px;\n",
       "  overflow: hidden;\n",
       "  padding: 0;\n",
       "  position: absolute;\n",
       "  width: 1px;\n",
       "}\n",
       "\n",
       "#sk-container-id-1 div.sk-dashed-wrapped {\n",
       "  border: 1px dashed var(--sklearn-color-line);\n",
       "  margin: 0 0.4em 0.5em 0.4em;\n",
       "  box-sizing: border-box;\n",
       "  padding-bottom: 0.4em;\n",
       "  background-color: var(--sklearn-color-background);\n",
       "}\n",
       "\n",
       "#sk-container-id-1 div.sk-container {\n",
       "  /* jupyter's `normalize.less` sets `[hidden] { display: none; }`\n",
       "     but bootstrap.min.css set `[hidden] { display: none !important; }`\n",
       "     so we also need the `!important` here to be able to override the\n",
       "     default hidden behavior on the sphinx rendered scikit-learn.org.\n",
       "     See: https://github.com/scikit-learn/scikit-learn/issues/21755 */\n",
       "  display: inline-block !important;\n",
       "  position: relative;\n",
       "}\n",
       "\n",
       "#sk-container-id-1 div.sk-text-repr-fallback {\n",
       "  display: none;\n",
       "}\n",
       "\n",
       "div.sk-parallel-item,\n",
       "div.sk-serial,\n",
       "div.sk-item {\n",
       "  /* draw centered vertical line to link estimators */\n",
       "  background-image: linear-gradient(var(--sklearn-color-text-on-default-background), var(--sklearn-color-text-on-default-background));\n",
       "  background-size: 2px 100%;\n",
       "  background-repeat: no-repeat;\n",
       "  background-position: center center;\n",
       "}\n",
       "\n",
       "/* Parallel-specific style estimator block */\n",
       "\n",
       "#sk-container-id-1 div.sk-parallel-item::after {\n",
       "  content: \"\";\n",
       "  width: 100%;\n",
       "  border-bottom: 2px solid var(--sklearn-color-text-on-default-background);\n",
       "  flex-grow: 1;\n",
       "}\n",
       "\n",
       "#sk-container-id-1 div.sk-parallel {\n",
       "  display: flex;\n",
       "  align-items: stretch;\n",
       "  justify-content: center;\n",
       "  background-color: var(--sklearn-color-background);\n",
       "  position: relative;\n",
       "}\n",
       "\n",
       "#sk-container-id-1 div.sk-parallel-item {\n",
       "  display: flex;\n",
       "  flex-direction: column;\n",
       "}\n",
       "\n",
       "#sk-container-id-1 div.sk-parallel-item:first-child::after {\n",
       "  align-self: flex-end;\n",
       "  width: 50%;\n",
       "}\n",
       "\n",
       "#sk-container-id-1 div.sk-parallel-item:last-child::after {\n",
       "  align-self: flex-start;\n",
       "  width: 50%;\n",
       "}\n",
       "\n",
       "#sk-container-id-1 div.sk-parallel-item:only-child::after {\n",
       "  width: 0;\n",
       "}\n",
       "\n",
       "/* Serial-specific style estimator block */\n",
       "\n",
       "#sk-container-id-1 div.sk-serial {\n",
       "  display: flex;\n",
       "  flex-direction: column;\n",
       "  align-items: center;\n",
       "  background-color: var(--sklearn-color-background);\n",
       "  padding-right: 1em;\n",
       "  padding-left: 1em;\n",
       "}\n",
       "\n",
       "\n",
       "/* Toggleable style: style used for estimator/Pipeline/ColumnTransformer box that is\n",
       "clickable and can be expanded/collapsed.\n",
       "- Pipeline and ColumnTransformer use this feature and define the default style\n",
       "- Estimators will overwrite some part of the style using the `sk-estimator` class\n",
       "*/\n",
       "\n",
       "/* Pipeline and ColumnTransformer style (default) */\n",
       "\n",
       "#sk-container-id-1 div.sk-toggleable {\n",
       "  /* Default theme specific background. It is overwritten whether we have a\n",
       "  specific estimator or a Pipeline/ColumnTransformer */\n",
       "  background-color: var(--sklearn-color-background);\n",
       "}\n",
       "\n",
       "/* Toggleable label */\n",
       "#sk-container-id-1 label.sk-toggleable__label {\n",
       "  cursor: pointer;\n",
       "  display: block;\n",
       "  width: 100%;\n",
       "  margin-bottom: 0;\n",
       "  padding: 0.5em;\n",
       "  box-sizing: border-box;\n",
       "  text-align: center;\n",
       "}\n",
       "\n",
       "#sk-container-id-1 label.sk-toggleable__label-arrow:before {\n",
       "  /* Arrow on the left of the label */\n",
       "  content: \"▸\";\n",
       "  float: left;\n",
       "  margin-right: 0.25em;\n",
       "  color: var(--sklearn-color-icon);\n",
       "}\n",
       "\n",
       "#sk-container-id-1 label.sk-toggleable__label-arrow:hover:before {\n",
       "  color: var(--sklearn-color-text);\n",
       "}\n",
       "\n",
       "/* Toggleable content - dropdown */\n",
       "\n",
       "#sk-container-id-1 div.sk-toggleable__content {\n",
       "  max-height: 0;\n",
       "  max-width: 0;\n",
       "  overflow: hidden;\n",
       "  text-align: left;\n",
       "  /* unfitted */\n",
       "  background-color: var(--sklearn-color-unfitted-level-0);\n",
       "}\n",
       "\n",
       "#sk-container-id-1 div.sk-toggleable__content.fitted {\n",
       "  /* fitted */\n",
       "  background-color: var(--sklearn-color-fitted-level-0);\n",
       "}\n",
       "\n",
       "#sk-container-id-1 div.sk-toggleable__content pre {\n",
       "  margin: 0.2em;\n",
       "  border-radius: 0.25em;\n",
       "  color: var(--sklearn-color-text);\n",
       "  /* unfitted */\n",
       "  background-color: var(--sklearn-color-unfitted-level-0);\n",
       "}\n",
       "\n",
       "#sk-container-id-1 div.sk-toggleable__content.fitted pre {\n",
       "  /* unfitted */\n",
       "  background-color: var(--sklearn-color-fitted-level-0);\n",
       "}\n",
       "\n",
       "#sk-container-id-1 input.sk-toggleable__control:checked~div.sk-toggleable__content {\n",
       "  /* Expand drop-down */\n",
       "  max-height: 200px;\n",
       "  max-width: 100%;\n",
       "  overflow: auto;\n",
       "}\n",
       "\n",
       "#sk-container-id-1 input.sk-toggleable__control:checked~label.sk-toggleable__label-arrow:before {\n",
       "  content: \"▾\";\n",
       "}\n",
       "\n",
       "/* Pipeline/ColumnTransformer-specific style */\n",
       "\n",
       "#sk-container-id-1 div.sk-label input.sk-toggleable__control:checked~label.sk-toggleable__label {\n",
       "  color: var(--sklearn-color-text);\n",
       "  background-color: var(--sklearn-color-unfitted-level-2);\n",
       "}\n",
       "\n",
       "#sk-container-id-1 div.sk-label.fitted input.sk-toggleable__control:checked~label.sk-toggleable__label {\n",
       "  background-color: var(--sklearn-color-fitted-level-2);\n",
       "}\n",
       "\n",
       "/* Estimator-specific style */\n",
       "\n",
       "/* Colorize estimator box */\n",
       "#sk-container-id-1 div.sk-estimator input.sk-toggleable__control:checked~label.sk-toggleable__label {\n",
       "  /* unfitted */\n",
       "  background-color: var(--sklearn-color-unfitted-level-2);\n",
       "}\n",
       "\n",
       "#sk-container-id-1 div.sk-estimator.fitted input.sk-toggleable__control:checked~label.sk-toggleable__label {\n",
       "  /* fitted */\n",
       "  background-color: var(--sklearn-color-fitted-level-2);\n",
       "}\n",
       "\n",
       "#sk-container-id-1 div.sk-label label.sk-toggleable__label,\n",
       "#sk-container-id-1 div.sk-label label {\n",
       "  /* The background is the default theme color */\n",
       "  color: var(--sklearn-color-text-on-default-background);\n",
       "}\n",
       "\n",
       "/* On hover, darken the color of the background */\n",
       "#sk-container-id-1 div.sk-label:hover label.sk-toggleable__label {\n",
       "  color: var(--sklearn-color-text);\n",
       "  background-color: var(--sklearn-color-unfitted-level-2);\n",
       "}\n",
       "\n",
       "/* Label box, darken color on hover, fitted */\n",
       "#sk-container-id-1 div.sk-label.fitted:hover label.sk-toggleable__label.fitted {\n",
       "  color: var(--sklearn-color-text);\n",
       "  background-color: var(--sklearn-color-fitted-level-2);\n",
       "}\n",
       "\n",
       "/* Estimator label */\n",
       "\n",
       "#sk-container-id-1 div.sk-label label {\n",
       "  font-family: monospace;\n",
       "  font-weight: bold;\n",
       "  display: inline-block;\n",
       "  line-height: 1.2em;\n",
       "}\n",
       "\n",
       "#sk-container-id-1 div.sk-label-container {\n",
       "  text-align: center;\n",
       "}\n",
       "\n",
       "/* Estimator-specific */\n",
       "#sk-container-id-1 div.sk-estimator {\n",
       "  font-family: monospace;\n",
       "  border: 1px dotted var(--sklearn-color-border-box);\n",
       "  border-radius: 0.25em;\n",
       "  box-sizing: border-box;\n",
       "  margin-bottom: 0.5em;\n",
       "  /* unfitted */\n",
       "  background-color: var(--sklearn-color-unfitted-level-0);\n",
       "}\n",
       "\n",
       "#sk-container-id-1 div.sk-estimator.fitted {\n",
       "  /* fitted */\n",
       "  background-color: var(--sklearn-color-fitted-level-0);\n",
       "}\n",
       "\n",
       "/* on hover */\n",
       "#sk-container-id-1 div.sk-estimator:hover {\n",
       "  /* unfitted */\n",
       "  background-color: var(--sklearn-color-unfitted-level-2);\n",
       "}\n",
       "\n",
       "#sk-container-id-1 div.sk-estimator.fitted:hover {\n",
       "  /* fitted */\n",
       "  background-color: var(--sklearn-color-fitted-level-2);\n",
       "}\n",
       "\n",
       "/* Specification for estimator info (e.g. \"i\" and \"?\") */\n",
       "\n",
       "/* Common style for \"i\" and \"?\" */\n",
       "\n",
       ".sk-estimator-doc-link,\n",
       "a:link.sk-estimator-doc-link,\n",
       "a:visited.sk-estimator-doc-link {\n",
       "  float: right;\n",
       "  font-size: smaller;\n",
       "  line-height: 1em;\n",
       "  font-family: monospace;\n",
       "  background-color: var(--sklearn-color-background);\n",
       "  border-radius: 1em;\n",
       "  height: 1em;\n",
       "  width: 1em;\n",
       "  text-decoration: none !important;\n",
       "  margin-left: 1ex;\n",
       "  /* unfitted */\n",
       "  border: var(--sklearn-color-unfitted-level-1) 1pt solid;\n",
       "  color: var(--sklearn-color-unfitted-level-1);\n",
       "}\n",
       "\n",
       ".sk-estimator-doc-link.fitted,\n",
       "a:link.sk-estimator-doc-link.fitted,\n",
       "a:visited.sk-estimator-doc-link.fitted {\n",
       "  /* fitted */\n",
       "  border: var(--sklearn-color-fitted-level-1) 1pt solid;\n",
       "  color: var(--sklearn-color-fitted-level-1);\n",
       "}\n",
       "\n",
       "/* On hover */\n",
       "div.sk-estimator:hover .sk-estimator-doc-link:hover,\n",
       ".sk-estimator-doc-link:hover,\n",
       "div.sk-label-container:hover .sk-estimator-doc-link:hover,\n",
       ".sk-estimator-doc-link:hover {\n",
       "  /* unfitted */\n",
       "  background-color: var(--sklearn-color-unfitted-level-3);\n",
       "  color: var(--sklearn-color-background);\n",
       "  text-decoration: none;\n",
       "}\n",
       "\n",
       "div.sk-estimator.fitted:hover .sk-estimator-doc-link.fitted:hover,\n",
       ".sk-estimator-doc-link.fitted:hover,\n",
       "div.sk-label-container:hover .sk-estimator-doc-link.fitted:hover,\n",
       ".sk-estimator-doc-link.fitted:hover {\n",
       "  /* fitted */\n",
       "  background-color: var(--sklearn-color-fitted-level-3);\n",
       "  color: var(--sklearn-color-background);\n",
       "  text-decoration: none;\n",
       "}\n",
       "\n",
       "/* Span, style for the box shown on hovering the info icon */\n",
       ".sk-estimator-doc-link span {\n",
       "  display: none;\n",
       "  z-index: 9999;\n",
       "  position: relative;\n",
       "  font-weight: normal;\n",
       "  right: .2ex;\n",
       "  padding: .5ex;\n",
       "  margin: .5ex;\n",
       "  width: min-content;\n",
       "  min-width: 20ex;\n",
       "  max-width: 50ex;\n",
       "  color: var(--sklearn-color-text);\n",
       "  box-shadow: 2pt 2pt 4pt #999;\n",
       "  /* unfitted */\n",
       "  background: var(--sklearn-color-unfitted-level-0);\n",
       "  border: .5pt solid var(--sklearn-color-unfitted-level-3);\n",
       "}\n",
       "\n",
       ".sk-estimator-doc-link.fitted span {\n",
       "  /* fitted */\n",
       "  background: var(--sklearn-color-fitted-level-0);\n",
       "  border: var(--sklearn-color-fitted-level-3);\n",
       "}\n",
       "\n",
       ".sk-estimator-doc-link:hover span {\n",
       "  display: block;\n",
       "}\n",
       "\n",
       "/* \"?\"-specific style due to the `<a>` HTML tag */\n",
       "\n",
       "#sk-container-id-1 a.estimator_doc_link {\n",
       "  float: right;\n",
       "  font-size: 1rem;\n",
       "  line-height: 1em;\n",
       "  font-family: monospace;\n",
       "  background-color: var(--sklearn-color-background);\n",
       "  border-radius: 1rem;\n",
       "  height: 1rem;\n",
       "  width: 1rem;\n",
       "  text-decoration: none;\n",
       "  /* unfitted */\n",
       "  color: var(--sklearn-color-unfitted-level-1);\n",
       "  border: var(--sklearn-color-unfitted-level-1) 1pt solid;\n",
       "}\n",
       "\n",
       "#sk-container-id-1 a.estimator_doc_link.fitted {\n",
       "  /* fitted */\n",
       "  border: var(--sklearn-color-fitted-level-1) 1pt solid;\n",
       "  color: var(--sklearn-color-fitted-level-1);\n",
       "}\n",
       "\n",
       "/* On hover */\n",
       "#sk-container-id-1 a.estimator_doc_link:hover {\n",
       "  /* unfitted */\n",
       "  background-color: var(--sklearn-color-unfitted-level-3);\n",
       "  color: var(--sklearn-color-background);\n",
       "  text-decoration: none;\n",
       "}\n",
       "\n",
       "#sk-container-id-1 a.estimator_doc_link.fitted:hover {\n",
       "  /* fitted */\n",
       "  background-color: var(--sklearn-color-fitted-level-3);\n",
       "}\n",
       "</style><div id=\"sk-container-id-1\" class=\"sk-top-container\"><div class=\"sk-text-repr-fallback\"><pre>LogisticRegression(random_state=1, solver=&#x27;liblinear&#x27;)</pre><b>In a Jupyter environment, please rerun this cell to show the HTML representation or trust the notebook. <br />On GitHub, the HTML representation is unable to render, please try loading this page with nbviewer.org.</b></div><div class=\"sk-container\" hidden><div class=\"sk-item\"><div class=\"sk-estimator fitted sk-toggleable\"><input class=\"sk-toggleable__control sk-hidden--visually\" id=\"sk-estimator-id-1\" type=\"checkbox\" checked><label for=\"sk-estimator-id-1\" class=\"sk-toggleable__label fitted sk-toggleable__label-arrow fitted\">&nbsp;&nbsp;LogisticRegression<a class=\"sk-estimator-doc-link fitted\" rel=\"noreferrer\" target=\"_blank\" href=\"https://scikit-learn.org/1.4/modules/generated/sklearn.linear_model.LogisticRegression.html\">?<span>Documentation for LogisticRegression</span></a><span class=\"sk-estimator-doc-link fitted\">i<span>Fitted</span></span></label><div class=\"sk-toggleable__content fitted\"><pre>LogisticRegression(random_state=1, solver=&#x27;liblinear&#x27;)</pre></div> </div></div></div></div>"
      ],
      "text/plain": [
       "LogisticRegression(random_state=1, solver='liblinear')"
      ]
     },
     "execution_count": 7,
     "metadata": {},
     "output_type": "execute_result"
    }
   ],
   "source": [
    "model = LogisticRegression(solver='liblinear', random_state=1)\n",
    "model.fit(X_train, y_train)"
   ]
  },
  {
   "cell_type": "code",
   "execution_count": 8,
   "id": "ac663188-2652-4b62-97ff-df22b3bc0471",
   "metadata": {},
   "outputs": [],
   "source": [
    "val_dict = df_val[categorical + numerical].to_dict(orient='records')\n",
    "X_val = dv.transform(val_dict)\n",
    "y_pred = model.predict_proba(X_val)[:, 1]"
   ]
  },
  {
   "cell_type": "code",
   "execution_count": 9,
   "id": "488dcf1c-92e2-4ae2-a533-e654bd998ae6",
   "metadata": {},
   "outputs": [
    {
     "data": {
      "text/html": [
       "<style>#sk-container-id-2 {\n",
       "  /* Definition of color scheme common for light and dark mode */\n",
       "  --sklearn-color-text: black;\n",
       "  --sklearn-color-line: gray;\n",
       "  /* Definition of color scheme for unfitted estimators */\n",
       "  --sklearn-color-unfitted-level-0: #fff5e6;\n",
       "  --sklearn-color-unfitted-level-1: #f6e4d2;\n",
       "  --sklearn-color-unfitted-level-2: #ffe0b3;\n",
       "  --sklearn-color-unfitted-level-3: chocolate;\n",
       "  /* Definition of color scheme for fitted estimators */\n",
       "  --sklearn-color-fitted-level-0: #f0f8ff;\n",
       "  --sklearn-color-fitted-level-1: #d4ebff;\n",
       "  --sklearn-color-fitted-level-2: #b3dbfd;\n",
       "  --sklearn-color-fitted-level-3: cornflowerblue;\n",
       "\n",
       "  /* Specific color for light theme */\n",
       "  --sklearn-color-text-on-default-background: var(--sg-text-color, var(--theme-code-foreground, var(--jp-content-font-color1, black)));\n",
       "  --sklearn-color-background: var(--sg-background-color, var(--theme-background, var(--jp-layout-color0, white)));\n",
       "  --sklearn-color-border-box: var(--sg-text-color, var(--theme-code-foreground, var(--jp-content-font-color1, black)));\n",
       "  --sklearn-color-icon: #696969;\n",
       "\n",
       "  @media (prefers-color-scheme: dark) {\n",
       "    /* Redefinition of color scheme for dark theme */\n",
       "    --sklearn-color-text-on-default-background: var(--sg-text-color, var(--theme-code-foreground, var(--jp-content-font-color1, white)));\n",
       "    --sklearn-color-background: var(--sg-background-color, var(--theme-background, var(--jp-layout-color0, #111)));\n",
       "    --sklearn-color-border-box: var(--sg-text-color, var(--theme-code-foreground, var(--jp-content-font-color1, white)));\n",
       "    --sklearn-color-icon: #878787;\n",
       "  }\n",
       "}\n",
       "\n",
       "#sk-container-id-2 {\n",
       "  color: var(--sklearn-color-text);\n",
       "}\n",
       "\n",
       "#sk-container-id-2 pre {\n",
       "  padding: 0;\n",
       "}\n",
       "\n",
       "#sk-container-id-2 input.sk-hidden--visually {\n",
       "  border: 0;\n",
       "  clip: rect(1px 1px 1px 1px);\n",
       "  clip: rect(1px, 1px, 1px, 1px);\n",
       "  height: 1px;\n",
       "  margin: -1px;\n",
       "  overflow: hidden;\n",
       "  padding: 0;\n",
       "  position: absolute;\n",
       "  width: 1px;\n",
       "}\n",
       "\n",
       "#sk-container-id-2 div.sk-dashed-wrapped {\n",
       "  border: 1px dashed var(--sklearn-color-line);\n",
       "  margin: 0 0.4em 0.5em 0.4em;\n",
       "  box-sizing: border-box;\n",
       "  padding-bottom: 0.4em;\n",
       "  background-color: var(--sklearn-color-background);\n",
       "}\n",
       "\n",
       "#sk-container-id-2 div.sk-container {\n",
       "  /* jupyter's `normalize.less` sets `[hidden] { display: none; }`\n",
       "     but bootstrap.min.css set `[hidden] { display: none !important; }`\n",
       "     so we also need the `!important` here to be able to override the\n",
       "     default hidden behavior on the sphinx rendered scikit-learn.org.\n",
       "     See: https://github.com/scikit-learn/scikit-learn/issues/21755 */\n",
       "  display: inline-block !important;\n",
       "  position: relative;\n",
       "}\n",
       "\n",
       "#sk-container-id-2 div.sk-text-repr-fallback {\n",
       "  display: none;\n",
       "}\n",
       "\n",
       "div.sk-parallel-item,\n",
       "div.sk-serial,\n",
       "div.sk-item {\n",
       "  /* draw centered vertical line to link estimators */\n",
       "  background-image: linear-gradient(var(--sklearn-color-text-on-default-background), var(--sklearn-color-text-on-default-background));\n",
       "  background-size: 2px 100%;\n",
       "  background-repeat: no-repeat;\n",
       "  background-position: center center;\n",
       "}\n",
       "\n",
       "/* Parallel-specific style estimator block */\n",
       "\n",
       "#sk-container-id-2 div.sk-parallel-item::after {\n",
       "  content: \"\";\n",
       "  width: 100%;\n",
       "  border-bottom: 2px solid var(--sklearn-color-text-on-default-background);\n",
       "  flex-grow: 1;\n",
       "}\n",
       "\n",
       "#sk-container-id-2 div.sk-parallel {\n",
       "  display: flex;\n",
       "  align-items: stretch;\n",
       "  justify-content: center;\n",
       "  background-color: var(--sklearn-color-background);\n",
       "  position: relative;\n",
       "}\n",
       "\n",
       "#sk-container-id-2 div.sk-parallel-item {\n",
       "  display: flex;\n",
       "  flex-direction: column;\n",
       "}\n",
       "\n",
       "#sk-container-id-2 div.sk-parallel-item:first-child::after {\n",
       "  align-self: flex-end;\n",
       "  width: 50%;\n",
       "}\n",
       "\n",
       "#sk-container-id-2 div.sk-parallel-item:last-child::after {\n",
       "  align-self: flex-start;\n",
       "  width: 50%;\n",
       "}\n",
       "\n",
       "#sk-container-id-2 div.sk-parallel-item:only-child::after {\n",
       "  width: 0;\n",
       "}\n",
       "\n",
       "/* Serial-specific style estimator block */\n",
       "\n",
       "#sk-container-id-2 div.sk-serial {\n",
       "  display: flex;\n",
       "  flex-direction: column;\n",
       "  align-items: center;\n",
       "  background-color: var(--sklearn-color-background);\n",
       "  padding-right: 1em;\n",
       "  padding-left: 1em;\n",
       "}\n",
       "\n",
       "\n",
       "/* Toggleable style: style used for estimator/Pipeline/ColumnTransformer box that is\n",
       "clickable and can be expanded/collapsed.\n",
       "- Pipeline and ColumnTransformer use this feature and define the default style\n",
       "- Estimators will overwrite some part of the style using the `sk-estimator` class\n",
       "*/\n",
       "\n",
       "/* Pipeline and ColumnTransformer style (default) */\n",
       "\n",
       "#sk-container-id-2 div.sk-toggleable {\n",
       "  /* Default theme specific background. It is overwritten whether we have a\n",
       "  specific estimator or a Pipeline/ColumnTransformer */\n",
       "  background-color: var(--sklearn-color-background);\n",
       "}\n",
       "\n",
       "/* Toggleable label */\n",
       "#sk-container-id-2 label.sk-toggleable__label {\n",
       "  cursor: pointer;\n",
       "  display: block;\n",
       "  width: 100%;\n",
       "  margin-bottom: 0;\n",
       "  padding: 0.5em;\n",
       "  box-sizing: border-box;\n",
       "  text-align: center;\n",
       "}\n",
       "\n",
       "#sk-container-id-2 label.sk-toggleable__label-arrow:before {\n",
       "  /* Arrow on the left of the label */\n",
       "  content: \"▸\";\n",
       "  float: left;\n",
       "  margin-right: 0.25em;\n",
       "  color: var(--sklearn-color-icon);\n",
       "}\n",
       "\n",
       "#sk-container-id-2 label.sk-toggleable__label-arrow:hover:before {\n",
       "  color: var(--sklearn-color-text);\n",
       "}\n",
       "\n",
       "/* Toggleable content - dropdown */\n",
       "\n",
       "#sk-container-id-2 div.sk-toggleable__content {\n",
       "  max-height: 0;\n",
       "  max-width: 0;\n",
       "  overflow: hidden;\n",
       "  text-align: left;\n",
       "  /* unfitted */\n",
       "  background-color: var(--sklearn-color-unfitted-level-0);\n",
       "}\n",
       "\n",
       "#sk-container-id-2 div.sk-toggleable__content.fitted {\n",
       "  /* fitted */\n",
       "  background-color: var(--sklearn-color-fitted-level-0);\n",
       "}\n",
       "\n",
       "#sk-container-id-2 div.sk-toggleable__content pre {\n",
       "  margin: 0.2em;\n",
       "  border-radius: 0.25em;\n",
       "  color: var(--sklearn-color-text);\n",
       "  /* unfitted */\n",
       "  background-color: var(--sklearn-color-unfitted-level-0);\n",
       "}\n",
       "\n",
       "#sk-container-id-2 div.sk-toggleable__content.fitted pre {\n",
       "  /* unfitted */\n",
       "  background-color: var(--sklearn-color-fitted-level-0);\n",
       "}\n",
       "\n",
       "#sk-container-id-2 input.sk-toggleable__control:checked~div.sk-toggleable__content {\n",
       "  /* Expand drop-down */\n",
       "  max-height: 200px;\n",
       "  max-width: 100%;\n",
       "  overflow: auto;\n",
       "}\n",
       "\n",
       "#sk-container-id-2 input.sk-toggleable__control:checked~label.sk-toggleable__label-arrow:before {\n",
       "  content: \"▾\";\n",
       "}\n",
       "\n",
       "/* Pipeline/ColumnTransformer-specific style */\n",
       "\n",
       "#sk-container-id-2 div.sk-label input.sk-toggleable__control:checked~label.sk-toggleable__label {\n",
       "  color: var(--sklearn-color-text);\n",
       "  background-color: var(--sklearn-color-unfitted-level-2);\n",
       "}\n",
       "\n",
       "#sk-container-id-2 div.sk-label.fitted input.sk-toggleable__control:checked~label.sk-toggleable__label {\n",
       "  background-color: var(--sklearn-color-fitted-level-2);\n",
       "}\n",
       "\n",
       "/* Estimator-specific style */\n",
       "\n",
       "/* Colorize estimator box */\n",
       "#sk-container-id-2 div.sk-estimator input.sk-toggleable__control:checked~label.sk-toggleable__label {\n",
       "  /* unfitted */\n",
       "  background-color: var(--sklearn-color-unfitted-level-2);\n",
       "}\n",
       "\n",
       "#sk-container-id-2 div.sk-estimator.fitted input.sk-toggleable__control:checked~label.sk-toggleable__label {\n",
       "  /* fitted */\n",
       "  background-color: var(--sklearn-color-fitted-level-2);\n",
       "}\n",
       "\n",
       "#sk-container-id-2 div.sk-label label.sk-toggleable__label,\n",
       "#sk-container-id-2 div.sk-label label {\n",
       "  /* The background is the default theme color */\n",
       "  color: var(--sklearn-color-text-on-default-background);\n",
       "}\n",
       "\n",
       "/* On hover, darken the color of the background */\n",
       "#sk-container-id-2 div.sk-label:hover label.sk-toggleable__label {\n",
       "  color: var(--sklearn-color-text);\n",
       "  background-color: var(--sklearn-color-unfitted-level-2);\n",
       "}\n",
       "\n",
       "/* Label box, darken color on hover, fitted */\n",
       "#sk-container-id-2 div.sk-label.fitted:hover label.sk-toggleable__label.fitted {\n",
       "  color: var(--sklearn-color-text);\n",
       "  background-color: var(--sklearn-color-fitted-level-2);\n",
       "}\n",
       "\n",
       "/* Estimator label */\n",
       "\n",
       "#sk-container-id-2 div.sk-label label {\n",
       "  font-family: monospace;\n",
       "  font-weight: bold;\n",
       "  display: inline-block;\n",
       "  line-height: 1.2em;\n",
       "}\n",
       "\n",
       "#sk-container-id-2 div.sk-label-container {\n",
       "  text-align: center;\n",
       "}\n",
       "\n",
       "/* Estimator-specific */\n",
       "#sk-container-id-2 div.sk-estimator {\n",
       "  font-family: monospace;\n",
       "  border: 1px dotted var(--sklearn-color-border-box);\n",
       "  border-radius: 0.25em;\n",
       "  box-sizing: border-box;\n",
       "  margin-bottom: 0.5em;\n",
       "  /* unfitted */\n",
       "  background-color: var(--sklearn-color-unfitted-level-0);\n",
       "}\n",
       "\n",
       "#sk-container-id-2 div.sk-estimator.fitted {\n",
       "  /* fitted */\n",
       "  background-color: var(--sklearn-color-fitted-level-0);\n",
       "}\n",
       "\n",
       "/* on hover */\n",
       "#sk-container-id-2 div.sk-estimator:hover {\n",
       "  /* unfitted */\n",
       "  background-color: var(--sklearn-color-unfitted-level-2);\n",
       "}\n",
       "\n",
       "#sk-container-id-2 div.sk-estimator.fitted:hover {\n",
       "  /* fitted */\n",
       "  background-color: var(--sklearn-color-fitted-level-2);\n",
       "}\n",
       "\n",
       "/* Specification for estimator info (e.g. \"i\" and \"?\") */\n",
       "\n",
       "/* Common style for \"i\" and \"?\" */\n",
       "\n",
       ".sk-estimator-doc-link,\n",
       "a:link.sk-estimator-doc-link,\n",
       "a:visited.sk-estimator-doc-link {\n",
       "  float: right;\n",
       "  font-size: smaller;\n",
       "  line-height: 1em;\n",
       "  font-family: monospace;\n",
       "  background-color: var(--sklearn-color-background);\n",
       "  border-radius: 1em;\n",
       "  height: 1em;\n",
       "  width: 1em;\n",
       "  text-decoration: none !important;\n",
       "  margin-left: 1ex;\n",
       "  /* unfitted */\n",
       "  border: var(--sklearn-color-unfitted-level-1) 1pt solid;\n",
       "  color: var(--sklearn-color-unfitted-level-1);\n",
       "}\n",
       "\n",
       ".sk-estimator-doc-link.fitted,\n",
       "a:link.sk-estimator-doc-link.fitted,\n",
       "a:visited.sk-estimator-doc-link.fitted {\n",
       "  /* fitted */\n",
       "  border: var(--sklearn-color-fitted-level-1) 1pt solid;\n",
       "  color: var(--sklearn-color-fitted-level-1);\n",
       "}\n",
       "\n",
       "/* On hover */\n",
       "div.sk-estimator:hover .sk-estimator-doc-link:hover,\n",
       ".sk-estimator-doc-link:hover,\n",
       "div.sk-label-container:hover .sk-estimator-doc-link:hover,\n",
       ".sk-estimator-doc-link:hover {\n",
       "  /* unfitted */\n",
       "  background-color: var(--sklearn-color-unfitted-level-3);\n",
       "  color: var(--sklearn-color-background);\n",
       "  text-decoration: none;\n",
       "}\n",
       "\n",
       "div.sk-estimator.fitted:hover .sk-estimator-doc-link.fitted:hover,\n",
       ".sk-estimator-doc-link.fitted:hover,\n",
       "div.sk-label-container:hover .sk-estimator-doc-link.fitted:hover,\n",
       ".sk-estimator-doc-link.fitted:hover {\n",
       "  /* fitted */\n",
       "  background-color: var(--sklearn-color-fitted-level-3);\n",
       "  color: var(--sklearn-color-background);\n",
       "  text-decoration: none;\n",
       "}\n",
       "\n",
       "/* Span, style for the box shown on hovering the info icon */\n",
       ".sk-estimator-doc-link span {\n",
       "  display: none;\n",
       "  z-index: 9999;\n",
       "  position: relative;\n",
       "  font-weight: normal;\n",
       "  right: .2ex;\n",
       "  padding: .5ex;\n",
       "  margin: .5ex;\n",
       "  width: min-content;\n",
       "  min-width: 20ex;\n",
       "  max-width: 50ex;\n",
       "  color: var(--sklearn-color-text);\n",
       "  box-shadow: 2pt 2pt 4pt #999;\n",
       "  /* unfitted */\n",
       "  background: var(--sklearn-color-unfitted-level-0);\n",
       "  border: .5pt solid var(--sklearn-color-unfitted-level-3);\n",
       "}\n",
       "\n",
       ".sk-estimator-doc-link.fitted span {\n",
       "  /* fitted */\n",
       "  background: var(--sklearn-color-fitted-level-0);\n",
       "  border: var(--sklearn-color-fitted-level-3);\n",
       "}\n",
       "\n",
       ".sk-estimator-doc-link:hover span {\n",
       "  display: block;\n",
       "}\n",
       "\n",
       "/* \"?\"-specific style due to the `<a>` HTML tag */\n",
       "\n",
       "#sk-container-id-2 a.estimator_doc_link {\n",
       "  float: right;\n",
       "  font-size: 1rem;\n",
       "  line-height: 1em;\n",
       "  font-family: monospace;\n",
       "  background-color: var(--sklearn-color-background);\n",
       "  border-radius: 1rem;\n",
       "  height: 1rem;\n",
       "  width: 1rem;\n",
       "  text-decoration: none;\n",
       "  /* unfitted */\n",
       "  color: var(--sklearn-color-unfitted-level-1);\n",
       "  border: var(--sklearn-color-unfitted-level-1) 1pt solid;\n",
       "}\n",
       "\n",
       "#sk-container-id-2 a.estimator_doc_link.fitted {\n",
       "  /* fitted */\n",
       "  border: var(--sklearn-color-fitted-level-1) 1pt solid;\n",
       "  color: var(--sklearn-color-fitted-level-1);\n",
       "}\n",
       "\n",
       "/* On hover */\n",
       "#sk-container-id-2 a.estimator_doc_link:hover {\n",
       "  /* unfitted */\n",
       "  background-color: var(--sklearn-color-unfitted-level-3);\n",
       "  color: var(--sklearn-color-background);\n",
       "  text-decoration: none;\n",
       "}\n",
       "\n",
       "#sk-container-id-2 a.estimator_doc_link.fitted:hover {\n",
       "  /* fitted */\n",
       "  background-color: var(--sklearn-color-fitted-level-3);\n",
       "}\n",
       "</style><div id=\"sk-container-id-2\" class=\"sk-top-container\"><div class=\"sk-text-repr-fallback\"><pre>LogisticRegression(random_state=1, solver=&#x27;liblinear&#x27;)</pre><b>In a Jupyter environment, please rerun this cell to show the HTML representation or trust the notebook. <br />On GitHub, the HTML representation is unable to render, please try loading this page with nbviewer.org.</b></div><div class=\"sk-container\" hidden><div class=\"sk-item\"><div class=\"sk-estimator fitted sk-toggleable\"><input class=\"sk-toggleable__control sk-hidden--visually\" id=\"sk-estimator-id-2\" type=\"checkbox\" checked><label for=\"sk-estimator-id-2\" class=\"sk-toggleable__label fitted sk-toggleable__label-arrow fitted\">&nbsp;&nbsp;LogisticRegression<a class=\"sk-estimator-doc-link fitted\" rel=\"noreferrer\" target=\"_blank\" href=\"https://scikit-learn.org/1.4/modules/generated/sklearn.linear_model.LogisticRegression.html\">?<span>Documentation for LogisticRegression</span></a><span class=\"sk-estimator-doc-link fitted\">i<span>Fitted</span></span></label><div class=\"sk-toggleable__content fitted\"><pre>LogisticRegression(random_state=1, solver=&#x27;liblinear&#x27;)</pre></div> </div></div></div></div>"
      ],
      "text/plain": [
       "LogisticRegression(random_state=1, solver='liblinear')"
      ]
     },
     "execution_count": 9,
     "metadata": {},
     "output_type": "execute_result"
    }
   ],
   "source": [
    "small_subset = ['contract', 'tenure', 'totalcharges']\n",
    "train_dict_small = df_train[small_subset].to_dict(orient='records')\n",
    "dv_small = DictVectorizer(sparse=False)\n",
    "dv_small.fit(train_dict_small)\n",
    "\n",
    "X_small_train = dv_small.transform(train_dict_small)\n",
    "\n",
    "model_small = LogisticRegression(solver='liblinear', random_state=1)\n",
    "model_small.fit(X_small_train, y_train)"
   ]
  },
  {
   "cell_type": "code",
   "execution_count": 10,
   "id": "b68ca508-5c9f-4a39-bb5a-49f8f2fb0a6c",
   "metadata": {},
   "outputs": [],
   "source": [
    "val_dict_small = df_val[small_subset].to_dict(orient='records')\n",
    "X_small_val = dv_small.transform(val_dict_small)\n",
    "\n",
    "y_pred_small = model_small.predict_proba(X_small_val)[:, 1]"
   ]
  },
  {
   "cell_type": "markdown",
   "id": "74b8c533-49c0-43f7-8495-c8220c4843ea",
   "metadata": {},
   "source": [
    "# 指标评估"
   ]
  },
  {
   "cell_type": "markdown",
   "id": "2d407874-29a3-404a-af86-2a06cdf42194",
   "metadata": {},
   "source": [
    "RMSE可以用来评估回归模型，但是不适合对分类模型进行使用。"
   ]
  },
  {
   "cell_type": "markdown",
   "id": "4de20e09-e7b7-45dd-86e6-e1cf8e95eec1",
   "metadata": {},
   "source": [
    "二元分类模型的准确度就是它做出正确预测的百分比："
   ]
  },
  {
   "cell_type": "code",
   "execution_count": 11,
   "id": "2acc1e6a-ef18-43bc-9f05-f2766ebda437",
   "metadata": {},
   "outputs": [
    {
     "data": {
      "text/plain": [
       "array([0.23491107, 0.2688661 , 0.3194518 , ..., 0.05725275, 0.61523039,\n",
       "       0.06127263])"
      ]
     },
     "execution_count": 11,
     "metadata": {},
     "output_type": "execute_result"
    }
   ],
   "source": [
    "y_pred = model.predict_proba(X_val)[:, 1]\n",
    "y_pred"
   ]
  },
  {
   "cell_type": "code",
   "execution_count": 12,
   "id": "03778c39-ed23-44b7-9c24-54ae723f61ef",
   "metadata": {},
   "outputs": [],
   "source": [
    "churn = y_pred >= 0.5"
   ]
  },
  {
   "cell_type": "code",
   "execution_count": 13,
   "id": "d4dfdf08-d018-4380-846d-01e126529535",
   "metadata": {},
   "outputs": [
    {
     "data": {
      "text/plain": [
       "array([False, False, False, ..., False,  True, False])"
      ]
     },
     "execution_count": 13,
     "metadata": {},
     "output_type": "execute_result"
    }
   ],
   "source": [
    "churn"
   ]
  },
  {
   "cell_type": "code",
   "execution_count": 14,
   "id": "3c31708d-edb3-4b46-8c24-ddde2661f81f",
   "metadata": {},
   "outputs": [
    {
     "data": {
      "text/plain": [
       "0.8016129032258065"
      ]
     },
     "execution_count": 14,
     "metadata": {},
     "output_type": "execute_result"
    }
   ],
   "source": [
    "(churn == y_val).mean()"
   ]
  },
  {
   "cell_type": "markdown",
   "id": "c342fcfc-23d3-488e-8f24-3e40db9ab0a8",
   "metadata": {},
   "source": [
    "准确率为0.80，也就是80%左右。"
   ]
  },
  {
   "cell_type": "markdown",
   "id": "d25f0c60-11b5-4136-8b58-472eaf028c7f",
   "metadata": {},
   "source": [
    "这里选择的是0.5作为阈值，但是也可以选择使用其他的值："
   ]
  },
  {
   "cell_type": "code",
   "execution_count": 15,
   "id": "29b5be54-81d8-4d70-ae8b-96cb1b0c6755",
   "metadata": {},
   "outputs": [
    {
     "data": {
      "text/plain": [
       "array([False, False, False, ..., False, False, False])"
      ]
     },
     "execution_count": 15,
     "metadata": {},
     "output_type": "execute_result"
    }
   ],
   "source": [
    "churn = y_pred >= 0.7\n",
    "churn"
   ]
  },
  {
   "cell_type": "code",
   "execution_count": 16,
   "id": "250c1275-40da-4465-a935-03c65072b84a",
   "metadata": {},
   "outputs": [
    {
     "data": {
      "text/plain": [
       "0.7736559139784946"
      ]
     },
     "execution_count": 16,
     "metadata": {},
     "output_type": "execute_result"
    }
   ],
   "source": [
    "(churn == y_val).mean()"
   ]
  },
  {
   "cell_type": "markdown",
   "id": "d6a28e80-cf06-4d8e-ad8e-fc7a43ba8d0f",
   "metadata": {},
   "source": [
    "可以发现准确率下降了。"
   ]
  },
  {
   "cell_type": "code",
   "execution_count": 17,
   "id": "36803434-45a8-474b-932f-e110e009e498",
   "metadata": {},
   "outputs": [
    {
     "data": {
      "text/plain": [
       "array([False, False, False, ..., False,  True, False])"
      ]
     },
     "execution_count": 17,
     "metadata": {},
     "output_type": "execute_result"
    }
   ],
   "source": [
    "churn = y_pred >= 0.4\n",
    "churn"
   ]
  },
  {
   "cell_type": "code",
   "execution_count": 18,
   "id": "b01a1f31-8594-4f30-9e97-a1ca4739bf6e",
   "metadata": {},
   "outputs": [
    {
     "data": {
      "text/plain": [
       "0.7817204301075269"
      ]
     },
     "execution_count": 18,
     "metadata": {},
     "output_type": "execute_result"
    }
   ],
   "source": [
    "(churn == y_val).mean()"
   ]
  },
  {
   "cell_type": "markdown",
   "id": "93dac325-282d-433e-9701-b2f785986690",
   "metadata": {},
   "source": [
    "可以发现准确率也下降了。"
   ]
  },
  {
   "cell_type": "code",
   "execution_count": 19,
   "id": "4a282558-e94c-47cd-a244-1eeb438ed18a",
   "metadata": {},
   "outputs": [
    {
     "data": {
      "text/plain": [
       "0.7951612903225806"
      ]
     },
     "execution_count": 19,
     "metadata": {},
     "output_type": "execute_result"
    }
   ],
   "source": [
    "churn = y_pred >= 0.45\n",
    "(churn == y_val).mean()"
   ]
  },
  {
   "cell_type": "markdown",
   "id": "c47ae012-95dc-4131-aafe-a0d55f01b632",
   "metadata": {},
   "source": [
    "由此可以判断，0.5应该是一个比较好的值。"
   ]
  },
  {
   "cell_type": "markdown",
   "id": "ecb8afef-a415-4b3b-8c46-474167cec813",
   "metadata": {},
   "source": [
    "或者我们可以遍历一下："
   ]
  },
  {
   "cell_type": "code",
   "execution_count": 20,
   "id": "f94c6763-4f69-451c-a792-b76975737456",
   "metadata": {},
   "outputs": [
    {
     "name": "stdout",
     "output_type": "stream",
     "text": [
      "0.00 0.261\n",
      "0.10 0.595\n",
      "0.20 0.690\n",
      "0.30 0.755\n",
      "0.40 0.782\n",
      "0.50 0.802\n",
      "0.60 0.790\n",
      "0.70 0.774\n",
      "0.80 0.742\n",
      "0.90 0.739\n",
      "1.00 0.739\n"
     ]
    }
   ],
   "source": [
    "from sklearn.metrics import accuracy_score\n",
    "\n",
    "thresholds = np.linspace(0, 1, 11)\n",
    "\n",
    "for t in thresholds:\n",
    "    churn = y_pred >= t\n",
    "    acc= accuracy_score(y_val, churn)\n",
    "    print('%0.2f %0.3f' % (t, acc))"
   ]
  },
  {
   "cell_type": "markdown",
   "id": "7bf9584a-baa4-4aa2-bed9-67a1cbfe32c7",
   "metadata": {},
   "source": [
    "然后进行可视化："
   ]
  },
  {
   "cell_type": "code",
   "execution_count": 21,
   "id": "802da230-a82d-4ebc-baf9-9cd373b20a35",
   "metadata": {},
   "outputs": [],
   "source": [
    "thresholds = np.linspace(0, 1, 21)\n",
    "accuracies = []\n",
    "for t in thresholds:\n",
    "    acc = accuracy_score(y_val, y_pred >= t)\n",
    "    accuracies.append(acc)"
   ]
  },
  {
   "cell_type": "code",
   "execution_count": 22,
   "id": "7f187be6-dec0-4663-94ca-572f75806089",
   "metadata": {},
   "outputs": [
    {
     "data": {
      "text/plain": [
       "[<matplotlib.lines.Line2D at 0x1910dead510>]"
      ]
     },
     "execution_count": 22,
     "metadata": {},
     "output_type": "execute_result"
    },
    {
     "data": {
      "image/png": "[encoded data removed]",
      "text/plain": [
       "<Figure size 640x480 with 1 Axes>"
      ]
     },
     "metadata": {},
     "output_type": "display_data"
    }
   ],
   "source": [
    "# 开始绘制\n",
    "plt.plot(thresholds, accuracies)"
   ]
  },
  {
   "cell_type": "markdown",
   "id": "015e4c91-6bc5-40f3-9e5c-b156802179b4",
   "metadata": {},
   "source": [
    "从可视化的结果来看，确实在0.5左右准确率是最高的。"
   ]
  },
  {
   "cell_type": "markdown",
   "id": "33f9a005-dc43-4245-b05c-202974a90859",
   "metadata": {},
   "source": [
    "同样的："
   ]
  },
  {
   "cell_type": "code",
   "execution_count": 23,
   "id": "70add86b-e383-49fd-a4f1-676c2e6307d2",
   "metadata": {},
   "outputs": [
    {
     "data": {
      "text/plain": [
       "0.7672043010752688"
      ]
     },
     "execution_count": 23,
     "metadata": {},
     "output_type": "execute_result"
    }
   ],
   "source": [
    "val_dict_small = df_val[small_subset].to_dict(orient = 'records')\n",
    "\n",
    "X_small_val = dv_small.transform(val_dict_small)\n",
    "y_pred_small = model_small.predict_proba(X_small_val)[:, 1]\n",
    "\n",
    "churn_small = y_pred_small >= 0.5\n",
    "accuracy_score(y_val, churn_small)"
   ]
  },
  {
   "cell_type": "markdown",
   "id": "e102a71a-acb3-4561-8897-c48f75772b80",
   "metadata": {},
   "source": [
    "可以看到小模型的准确率是76%，而大模型的准确率是80%，但是小模型只使用了3个变量。"
   ]
  },
  {
   "cell_type": "markdown",
   "id": "16721fc4-4a7e-4a5a-875b-fa5626533896",
   "metadata": {},
   "source": [
    "然而：这仍然不能够得出80%或者76%是否是一个好的准确度得分。"
   ]
  },
  {
   "cell_type": "markdown",
   "id": "91e75458-c76e-4dbf-9d4a-8d33bd14f120",
   "metadata": {},
   "source": [
    "要判断是否是一个好的数字，需要和某一个基准线进行比较。"
   ]
  },
  {
   "cell_type": "code",
   "execution_count": 24,
   "id": "d206fe73-205d-4308-b68d-c0ba75a15f88",
   "metadata": {},
   "outputs": [
    {
     "data": {
      "text/plain": [
       "churn\n",
       "0    5174\n",
       "1    1869\n",
       "Name: count, dtype: int64"
      ]
     },
     "execution_count": 24,
     "metadata": {},
     "output_type": "execute_result"
    }
   ],
   "source": [
    "df.churn.value_counts()"
   ]
  },
  {
   "cell_type": "code",
   "execution_count": 25,
   "id": "d518d65f-1bfa-42de-bff3-defd01f5fb55",
   "metadata": {},
   "outputs": [
    {
     "data": {
      "text/plain": [
       "churn\n",
       "0    73.463013\n",
       "1    26.536987\n",
       "Name: proportion, dtype: float64"
      ]
     },
     "execution_count": 25,
     "metadata": {},
     "output_type": "execute_result"
    }
   ],
   "source": [
    "df['churn'].value_counts(normalize=True) * 100"
   ]
  },
  {
   "cell_type": "markdown",
   "id": "f754019e-66ab-402d-9de7-af0bfea718c8",
   "metadata": {},
   "source": [
    "这个数据集不是一个平衡数据集，有73%的用户都是非流失用户，这就意味着如果将所有的用户都判定为False，准确率一样可以高达73.46%。"
   ]
  },
  {
   "cell_type": "markdown",
   "id": "3fd8207b-1f4f-41dc-9965-250fafc3d2ba",
   "metadata": {},
   "source": [
    "创建一个只有False元素的数组："
   ]
  },
  {
   "cell_type": "code",
   "execution_count": 26,
   "id": "2b192cdd-741d-4691-8e99-c047cf6a55eb",
   "metadata": {},
   "outputs": [],
   "source": [
    "size_val = len(y_val)\n",
    "baseline = np.repeat(False, size_val)"
   ]
  },
  {
   "cell_type": "code",
   "execution_count": 27,
   "id": "6c081fc3-603c-4ef9-8f9c-2886559a6051",
   "metadata": {},
   "outputs": [
    {
     "data": {
      "text/plain": [
       "0.7387096774193549"
      ]
     },
     "execution_count": 27,
     "metadata": {},
     "output_type": "execute_result"
    }
   ],
   "source": [
    "# 然后开始检查这个基准线的准确度\n",
    "accuracy_score(baseline, y_val)"
   ]
  },
  {
   "cell_type": "markdown",
   "id": "a77e21ba-12b6-4728-894e-fc932deccb88",
   "metadata": {},
   "source": [
    "这样就可以发现：小模型只比原始基准线搞了2%左右，所以虽然看上去准确率高，但是可以认为性能并不好。"
   ]
  },
  {
   "cell_type": "markdown",
   "id": "3a3ed836-bc55-4e90-a73a-dc3cc8394755",
   "metadata": {},
   "source": [
    "拓展视频：https://www.bilibili.com/video/BV1vt4y117Zz/?spm_id_from=333.788"
   ]
  },
  {
   "cell_type": "markdown",
   "id": "91dd36a7-e058-4e64-8537-7b8b99cab6fc",
   "metadata": {},
   "source": [
    "# 混淆矩阵"
   ]
  },
  {
   "cell_type": "markdown",
   "id": "75cbab3f-69c1-4cf6-959b-14a0ee756d9e",
   "metadata": {},
   "source": [
    "混淆矩阵（Confusion Matrix）是用于评估分类模型性能的一种表格。它以真实类别与模型预测类别之间的匹配情况为基础。在二分类问题中，混淆矩阵是一个 2x2 的矩阵，其中包括以下四个项：\n",
    "\n",
    "1. **真正例（True Positive，TP）**：模型将正类别正确地预测为正类别的样本数。\n",
    "2. **真负例（True Negative，TN）**：模型将负类别正确地预测为负类别的样本数。\n",
    "3. **假正例（False Positive，FP）**：模型将负类别错误地预测为正类别的样本数。\n",
    "4. **假负例（False Negative，FN）**：模型将正类别错误地预测为负类别的样本数。\n",
    "\n",
    "混淆矩阵的一般形式如下：\n",
    "\n",
    "```\n",
    "                  Predicted\n",
    "                 Positive    Negative\n",
    "Actual Positive    TP          FN\n",
    "Actual Negative    FP          TN\n",
    "```\n",
    "\n",
    "通过混淆矩阵，我们可以计算出各种评估指标，如准确率（Accuracy）、精确率（Precision）、召回率（Recall）以及 F1 分数（F1 Score）等，从而更全面地评估分类模型的性能。"
   ]
  },
  {
   "cell_type": "markdown",
   "id": "81b72f32-66f0-4e41-8175-94c70aef5059",
   "metadata": {},
   "source": [
    "准确率（Accuracy）是指分类器正确分类的样本数占总样本数的比例。在混淆矩阵中，准确率的计算公式为：\n",
    "\n",
    "$\n",
    "\\text{Accuracy} = \\frac{\\text{TP} + \\text{TN}}{\\text{TP} + \\text{TN} + \\text{FP} + \\text{FN}}\n",
    "$\n",
    "\n",
    "其中，TP表示真正例，TN表示真负例，FP表示假正例，FN表示假负例。"
   ]
  },
  {
   "cell_type": "markdown",
   "id": "476db6b1-11f9-49c4-90de-a89e7561d442",
   "metadata": {},
   "source": [
    "精确率（Precision）是指在所有被分类为正类别的样本中，真正例的比例。在混淆矩阵中，精确率的计算公式为：\n",
    "\n",
    "$\n",
    "\\text{Precision} = \\frac{\\text{TP}}{\\text{TP} + \\text{FP}}\n",
    "$\n",
    "\n",
    "其中，TP表示真正例，FP表示假正例。"
   ]
  },
  {
   "cell_type": "markdown",
   "id": "15dab986-21e3-49ae-b0b4-f56c94cde919",
   "metadata": {},
   "source": [
    "召回率（Recall），也称为灵敏度（Sensitivity）或真正例率（True Positive Rate），是指在所有实际为正类别的样本中，被正确分类为正类别的比例。在混淆矩阵中，召回率的计算公式为：\n",
    "\n",
    "$\n",
    "\\text{Recall} = \\frac{\\text{TP}}{\\text{TP} + \\text{FN}}\n",
    "$\n",
    "\n",
    "其中，TP表示真正例，FN表示假负例。"
   ]
  },
  {
   "cell_type": "markdown",
   "id": "d34a0ba1-545f-4e30-a2a9-4ef659ec5499",
   "metadata": {},
   "source": [
    "F1分数是精确率和召回率的调和平均值，用于综合评估分类器的性能。F1分数是精确率和召回率的加权平均，其计算公式为：\n",
    "\n",
    "$\n",
    "\\text{F1 Score} = 2 \\times \\frac{\\text{Precision} \\times \\text{Recall}}{\\text{Precision} + \\text{Recall}}\n",
    "$\n",
    "\n",
    "F1分数的取值范围在0到1之间，越接近1表示模型性能越好。它将精确率和召回率结合在一起，以一个单一的指标来度量模型的性能。"
   ]
  },
  {
   "cell_type": "code",
   "execution_count": 28,
   "id": "38fcdfcb-b60e-4b56-a36f-d91703234f90",
   "metadata": {},
   "outputs": [],
   "source": [
    "# 使用numpy来计算混淆矩阵\n",
    "t = 0.5\n",
    "predict_churn = (y_pred >= t)\n",
    "predict_no_churn = (y_pred < t)\n",
    "\n",
    "# 目标值\n",
    "actual_churn = (y_val == 1)\n",
    "actual_no_churn = (y_val == 0)"
   ]
  },
  {
   "cell_type": "markdown",
   "id": "f82682c0-326e-4a0e-a374-ebb240b1ac12",
   "metadata": {},
   "source": [
    "接下来要进行门运算了："
   ]
  },
  {
   "cell_type": "code",
   "execution_count": 29,
   "id": "b8f26e42-e29b-4bc3-aa3b-48f59ca18b98",
   "metadata": {},
   "outputs": [],
   "source": [
    "true_positive = (predict_churn & actual_churn).sum()\n",
    "false_positive = (predict_churn & actual_no_churn).sum()\n",
    "\n",
    "false_negative = (predict_no_churn & actual_churn).sum()\n",
    "true_negative = (predict_no_churn & actual_no_churn).sum()"
   ]
  },
  {
   "cell_type": "markdown",
   "id": "f24aca91-f9ba-4340-81a2-31857347662f",
   "metadata": {},
   "source": [
    "& 意味着只有当两者都为真的时候，才能够判定为True。"
   ]
  },
  {
   "cell_type": "code",
   "execution_count": 30,
   "id": "9872bb31-644f-4941-99c8-4b35cc1422c0",
   "metadata": {},
   "outputs": [],
   "source": [
    "# true_positive = ((y_pred >= 0.5) & (y_val == 1)).sum()\n",
    "# false_positive = ((y_pred >= 0.5) & (y_val == 0)).sum()\n",
    "# false_negative = ((y_pred < 0.5) & (y_val == 1)).sum()\n",
    "# true_negative = ((y_pred < 0.5) & (y_val == 0)).sum()"
   ]
  },
  {
   "cell_type": "markdown",
   "id": "ab4f900a-3dc2-4d77-bab3-f518511f554b",
   "metadata": {},
   "source": [
    "整合一下："
   ]
  },
  {
   "cell_type": "code",
   "execution_count": 31,
   "id": "56cbadab-c9f6-4b65-b8b6-5d2c9036fea9",
   "metadata": {},
   "outputs": [
    {
     "data": {
      "text/plain": [
       "array([[1202,  172],\n",
       "       [ 197,  289]])"
      ]
     },
     "execution_count": 31,
     "metadata": {},
     "output_type": "execute_result"
    }
   ],
   "source": [
    "confusion_table = np.array(\n",
    "     # predict neg    pos\n",
    "    [[true_negative, false_positive], # actual neg\n",
    "     [false_negative, true_positive]]) # actual pos\n",
    "\n",
    "confusion_table"
   ]
  },
  {
   "cell_type": "code",
   "execution_count": 32,
   "id": "47f8256c-7e76-4168-ad85-fcc69b677385",
   "metadata": {},
   "outputs": [
    {
     "data": {
      "text/plain": [
       "array([[1202,  172],\n",
       "       [ 197,  289]])"
      ]
     },
     "execution_count": 32,
     "metadata": {},
     "output_type": "execute_result"
    }
   ],
   "source": [
    "confusion_table"
   ]
  },
  {
   "cell_type": "markdown",
   "id": "f47159f3-46e2-4249-83b8-fe6877c15b3e",
   "metadata": {},
   "source": [
    "然后转换成比率："
   ]
  },
  {
   "cell_type": "code",
   "execution_count": 33,
   "id": "7e8c756e-5769-4087-bf3b-343a9ef46ba4",
   "metadata": {},
   "outputs": [
    {
     "data": {
      "text/plain": [
       "array([[0.64623656, 0.09247312],\n",
       "       [0.10591398, 0.15537634]])"
      ]
     },
     "execution_count": 33,
     "metadata": {},
     "output_type": "execute_result"
    }
   ],
   "source": [
    "confusion_table / confusion_table.sum()"
   ]
  },
  {
   "cell_type": "markdown",
   "id": "167129cf-221e-4d39-9590-d6c9528c692c",
   "metadata": {},
   "source": [
    "从结果来看，模型预测负列值相当的主准确，65%的预测是真负列。然而假正列和假负列的错误相当的多，分别为9%和11%。"
   ]
  },
  {
   "cell_type": "markdown",
   "id": "301ab476-d541-4602-aa71-974ba0d5a3f6",
   "metadata": {},
   "source": [
    "拓展视频：https://www.bilibili.com/video/BV1oz4y1R71a/?spm_id_from=333.788&vd_source=70cc82c6f851aaa826e5c863112d2113"
   ]
  },
  {
   "cell_type": "markdown",
   "id": "20926cfe-4c4b-4594-b39c-f544c07018ad",
   "metadata": {},
   "source": [
    "# ROC曲线"
   ]
  },
  {
   "cell_type": "markdown",
   "id": "28dff90c-37f5-49f0-ac01-f8dcff3029c3",
   "metadata": {},
   "source": [
    "ROC是“接收者操作特征”（Receiver Operating Characteristic）的缩写。它是一种用于评估分类模型性能的图形工具。ROC曲线显示了在不同分类阈值下，真正例率（True Positive Rate，又称为灵敏度）与假正例率（False Positive Rate）之间的关系。\n",
    "\n",
    "真正例率（TPR）是指在所有实际为正例的样本中，被模型正确预测为正例的比例，其计算公式为：\n",
    "\n",
    "$TPR = \\frac{TP}{TP + FN} $\n",
    "\n",
    "其中，TP表示真正例（模型正确预测为正例的样本数），FN表示假负例（实际为正例但模型错误预测为负例的样本数）。\n",
    "\n",
    "假正例率（FPR）是指在所有实际为负例的样本中，被模型错误预测为正例的比例，其计算公式为：\n",
    "$FPR = \\frac{FP}{FP + TN}$\n",
    "\n",
    "其中，FP表示假正例（实际为负例但模型错误预测为正例的样本数），TN表示真负例（模型正确预测为负例的样本数）。\n",
    "\n",
    "ROC曲线以FPR为横坐标，TPR为纵坐标，通过绘制不同阈值下的TPR和FPR得到。一般来说，ROC曲线越靠近左上角（TPR高，FPR低），分类器性能越好。"
   ]
  },
  {
   "cell_type": "markdown",
   "id": "147e8278-fc52-41b7-af04-28833c375ea3",
   "metadata": {},
   "source": [
    "拓展视频：https://www.bilibili.com/video/BV1wz4y197LU/?spm_id_from=333.337.search-card.all.click"
   ]
  },
  {
   "cell_type": "markdown",
   "id": "d4a3c24a-a34f-4bcc-9755-77055a865698",
   "metadata": {},
   "source": [
    "简单来讲：TPR和FPR计算的是“被预测为True”的数量在“真实的True的数量”和“真实的False的数量”两者之间的比例。"
   ]
  },
  {
   "cell_type": "markdown",
   "id": "044016d4-8da4-43f3-9ee9-27eb79fe1c14",
   "metadata": {},
   "source": [
    "FPR的值越低越好，而TPR的值越高越好。"
   ]
  },
  {
   "cell_type": "code",
   "execution_count": 34,
   "id": "f67e5d74-27fc-486d-94e1-01ec6ee11b9c",
   "metadata": {},
   "outputs": [],
   "source": [
    "# 在多个阈值下评估模型\n",
    "scores = []  # 创建一个列表用来保存结果\n",
    "\n",
    "thresholds = np.linspace(0, 1, 101)  # 创建阈值，来进行循环\n",
    "\n",
    "# 如果预测结果是True，则属于Positive；反之，则是Negative；如果预测和事实相同，则是True，反之则是False。\n",
    "for t in thresholds:\n",
    "    tp = ((y_pred >= t) & (y_val == 1)).sum()  # 判定为True和确实也是True，得到True Positive\n",
    "    fp = ((y_pred >= t) & (y_val == 0)).sum()  # 判定为True和实际上是False，得到的是False Positive\n",
    "    fn = ((y_pred < t) & (y_val == 1)).sum()  # 判定为False和实际上是True，得到的是False Negative\n",
    "    tn = ((y_pred < t) & (y_val == 0)).sum()  # 判定为False和实际上是False，得到的是True Negative\n",
    "    scores.append((t, tp, fp , fn, tn))"
   ]
  },
  {
   "cell_type": "code",
   "execution_count": 35,
   "id": "4a5a36a5-4460-4f2d-8ab2-6bab15615bc3",
   "metadata": {},
   "outputs": [
    {
     "data": {
      "text/plain": [
       "[(0.0, 486, 1374, 0, 0),\n",
       " (0.01, 483, 1190, 3, 184),\n",
       " (0.02, 481, 1074, 5, 300),\n",
       " (0.03, 478, 1011, 8, 363),\n",
       " (0.04, 478, 970, 8, 404),\n",
       " (0.05, 475, 917, 11, 457),\n",
       " (0.06, 474, 879, 12, 495),\n",
       " (0.07, 469, 837, 17, 537),\n",
       " (0.08, 469, 799, 17, 575),\n",
       " (0.09, 462, 764, 24, 610),\n",
       " (0.1, 458, 726, 28, 648),\n",
       " (0.11, 454, 709, 32, 665),\n",
       " (0.12, 452, 673, 34, 701),\n",
       " (0.13, 449, 654, 37, 720),\n",
       " (0.14, 446, 641, 40, 733),\n",
       " (0.15, 445, 628, 41, 746),\n",
       " (0.16, 443, 595, 43, 779),\n",
       " (0.17, 439, 580, 47, 794),\n",
       " (0.18, 432, 554, 54, 820),\n",
       " (0.19, 427, 535, 59, 839),\n",
       " (0.2, 421, 512, 65, 862),\n",
       " (0.21, 414, 488, 72, 886),\n",
       " (0.22, 413, 470, 73, 904),\n",
       " (0.23, 413, 452, 73, 922),\n",
       " (0.24, 411, 442, 75, 932),\n",
       " (0.25, 409, 426, 77, 948),\n",
       " (0.26, 401, 412, 85, 962),\n",
       " (0.27, 393, 397, 93, 977),\n",
       " (0.28, 386, 382, 100, 992),\n",
       " (0.29, 383, 369, 103, 1005),\n",
       " (0.3, 380, 350, 106, 1024),\n",
       " (0.31, 375, 341, 111, 1033),\n",
       " (0.32, 368, 330, 118, 1044),\n",
       " (0.33, 366, 323, 120, 1051),\n",
       " (0.34, 359, 314, 127, 1060),\n",
       " (0.35000000000000003, 358, 305, 128, 1069),\n",
       " (0.36, 353, 293, 133, 1081),\n",
       " (0.37, 349, 286, 137, 1088),\n",
       " (0.38, 346, 279, 140, 1095),\n",
       " (0.39, 340, 268, 146, 1106),\n",
       " (0.4, 337, 257, 149, 1117),\n",
       " (0.41000000000000003, 335, 250, 151, 1124),\n",
       " (0.42, 331, 242, 155, 1132),\n",
       " (0.43, 326, 235, 160, 1139),\n",
       " (0.44, 321, 224, 165, 1150),\n",
       " (0.45, 318, 213, 168, 1161),\n",
       " (0.46, 309, 199, 177, 1175),\n",
       " (0.47000000000000003, 301, 193, 185, 1181),\n",
       " (0.48, 298, 189, 188, 1185),\n",
       " (0.49, 293, 181, 193, 1193),\n",
       " (0.5, 289, 172, 197, 1202),\n",
       " (0.51, 277, 164, 209, 1210),\n",
       " (0.52, 272, 154, 214, 1220),\n",
       " (0.53, 263, 151, 223, 1223),\n",
       " (0.54, 252, 144, 234, 1230),\n",
       " (0.55, 239, 143, 247, 1231),\n",
       " (0.56, 229, 132, 257, 1242),\n",
       " (0.5700000000000001, 221, 125, 265, 1249),\n",
       " (0.58, 215, 120, 271, 1254),\n",
       " (0.59, 206, 114, 280, 1260),\n",
       " (0.6, 200, 105, 286, 1269),\n",
       " (0.61, 183, 94, 303, 1280),\n",
       " (0.62, 175, 83, 311, 1291),\n",
       " (0.63, 168, 75, 318, 1299),\n",
       " (0.64, 159, 70, 327, 1304),\n",
       " (0.65, 153, 61, 333, 1313),\n",
       " (0.66, 147, 58, 339, 1316),\n",
       " (0.67, 132, 52, 354, 1322),\n",
       " (0.68, 124, 45, 362, 1329),\n",
       " (0.6900000000000001, 108, 40, 378, 1334),\n",
       " (0.7000000000000001, 99, 34, 387, 1340),\n",
       " (0.71, 81, 32, 405, 1342),\n",
       " (0.72, 68, 31, 418, 1343),\n",
       " (0.73, 60, 22, 426, 1352),\n",
       " (0.74, 49, 21, 437, 1353),\n",
       " (0.75, 44, 19, 442, 1355),\n",
       " (0.76, 34, 15, 452, 1359),\n",
       " (0.77, 30, 15, 456, 1359),\n",
       " (0.78, 21, 10, 465, 1364),\n",
       " (0.79, 13, 5, 473, 1369),\n",
       " (0.8, 7, 1, 479, 1373),\n",
       " (0.81, 5, 1, 481, 1373),\n",
       " (0.8200000000000001, 2, 1, 484, 1373),\n",
       " (0.8300000000000001, 1, 0, 485, 1374),\n",
       " (0.84, 0, 0, 486, 1374),\n",
       " (0.85, 0, 0, 486, 1374),\n",
       " (0.86, 0, 0, 486, 1374),\n",
       " (0.87, 0, 0, 486, 1374),\n",
       " (0.88, 0, 0, 486, 1374),\n",
       " (0.89, 0, 0, 486, 1374),\n",
       " (0.9, 0, 0, 486, 1374),\n",
       " (0.91, 0, 0, 486, 1374),\n",
       " (0.92, 0, 0, 486, 1374),\n",
       " (0.93, 0, 0, 486, 1374),\n",
       " (0.9400000000000001, 0, 0, 486, 1374),\n",
       " (0.9500000000000001, 0, 0, 486, 1374),\n",
       " (0.96, 0, 0, 486, 1374),\n",
       " (0.97, 0, 0, 486, 1374),\n",
       " (0.98, 0, 0, 486, 1374),\n",
       " (0.99, 0, 0, 486, 1374),\n",
       " (1.0, 0, 0, 486, 1374)]"
      ]
     },
     "execution_count": 35,
     "metadata": {},
     "output_type": "execute_result"
    }
   ],
   "source": [
    "scores"
   ]
  },
  {
   "cell_type": "markdown",
   "id": "c09e0084-8618-40e3-b0ac-3be06d6c3c6f",
   "metadata": {},
   "source": [
    "上面的代码和计算accuracy的步骤差不多，但是计算了TP，FP，FN和TN的情况，也就是混淆矩阵。"
   ]
  },
  {
   "cell_type": "code",
   "execution_count": 36,
   "id": "9731dcb8-32fa-4e29-b523-9cdc60a77f3f",
   "metadata": {},
   "outputs": [],
   "source": [
    "# 处理元组不不容易，但是可以转换为DataFrame\n",
    "df_scores = pd.DataFrame(scores)\n",
    "df_scores.columns = ['Threshold', 'tp', 'fp', 'fn', 'tn']"
   ]
  },
  {
   "cell_type": "code",
   "execution_count": 37,
   "id": "5dc1a7c5-aa07-40fd-bea2-a443645f6951",
   "metadata": {},
   "outputs": [
    {
     "data": {
      "text/html": [
       "<div>\n",
       "<style scoped>\n",
       "    .dataframe tbody tr th:only-of-type {\n",
       "        vertical-align: middle;\n",
       "    }\n",
       "\n",
       "    .dataframe tbody tr th {\n",
       "        vertical-align: top;\n",
       "    }\n",
       "\n",
       "    .dataframe thead th {\n",
       "        text-align: right;\n",
       "    }\n",
       "</style>\n",
       "<table border=\"1\" class=\"dataframe\">\n",
       "  <thead>\n",
       "    <tr style=\"text-align: right;\">\n",
       "      <th></th>\n",
       "      <th>Threshold</th>\n",
       "      <th>tp</th>\n",
       "      <th>fp</th>\n",
       "      <th>fn</th>\n",
       "      <th>tn</th>\n",
       "    </tr>\n",
       "  </thead>\n",
       "  <tbody>\n",
       "    <tr>\n",
       "      <th>0</th>\n",
       "      <td>0.00</td>\n",
       "      <td>486</td>\n",
       "      <td>1374</td>\n",
       "      <td>0</td>\n",
       "      <td>0</td>\n",
       "    </tr>\n",
       "    <tr>\n",
       "      <th>1</th>\n",
       "      <td>0.01</td>\n",
       "      <td>483</td>\n",
       "      <td>1190</td>\n",
       "      <td>3</td>\n",
       "      <td>184</td>\n",
       "    </tr>\n",
       "    <tr>\n",
       "      <th>2</th>\n",
       "      <td>0.02</td>\n",
       "      <td>481</td>\n",
       "      <td>1074</td>\n",
       "      <td>5</td>\n",
       "      <td>300</td>\n",
       "    </tr>\n",
       "    <tr>\n",
       "      <th>3</th>\n",
       "      <td>0.03</td>\n",
       "      <td>478</td>\n",
       "      <td>1011</td>\n",
       "      <td>8</td>\n",
       "      <td>363</td>\n",
       "    </tr>\n",
       "    <tr>\n",
       "      <th>4</th>\n",
       "      <td>0.04</td>\n",
       "      <td>478</td>\n",
       "      <td>970</td>\n",
       "      <td>8</td>\n",
       "      <td>404</td>\n",
       "    </tr>\n",
       "    <tr>\n",
       "      <th>...</th>\n",
       "      <td>...</td>\n",
       "      <td>...</td>\n",
       "      <td>...</td>\n",
       "      <td>...</td>\n",
       "      <td>...</td>\n",
       "    </tr>\n",
       "    <tr>\n",
       "      <th>96</th>\n",
       "      <td>0.96</td>\n",
       "      <td>0</td>\n",
       "      <td>0</td>\n",
       "      <td>486</td>\n",
       "      <td>1374</td>\n",
       "    </tr>\n",
       "    <tr>\n",
       "      <th>97</th>\n",
       "      <td>0.97</td>\n",
       "      <td>0</td>\n",
       "      <td>0</td>\n",
       "      <td>486</td>\n",
       "      <td>1374</td>\n",
       "    </tr>\n",
       "    <tr>\n",
       "      <th>98</th>\n",
       "      <td>0.98</td>\n",
       "      <td>0</td>\n",
       "      <td>0</td>\n",
       "      <td>486</td>\n",
       "      <td>1374</td>\n",
       "    </tr>\n",
       "    <tr>\n",
       "      <th>99</th>\n",
       "      <td>0.99</td>\n",
       "      <td>0</td>\n",
       "      <td>0</td>\n",
       "      <td>486</td>\n",
       "      <td>1374</td>\n",
       "    </tr>\n",
       "    <tr>\n",
       "      <th>100</th>\n",
       "      <td>1.00</td>\n",
       "      <td>0</td>\n",
       "      <td>0</td>\n",
       "      <td>486</td>\n",
       "      <td>1374</td>\n",
       "    </tr>\n",
       "  </tbody>\n",
       "</table>\n",
       "<p>101 rows × 5 columns</p>\n",
       "</div>"
      ],
      "text/plain": [
       "     Threshold   tp    fp   fn    tn\n",
       "0         0.00  486  1374    0     0\n",
       "1         0.01  483  1190    3   184\n",
       "2         0.02  481  1074    5   300\n",
       "3         0.03  478  1011    8   363\n",
       "4         0.04  478   970    8   404\n",
       "..         ...  ...   ...  ...   ...\n",
       "96        0.96    0     0  486  1374\n",
       "97        0.97    0     0  486  1374\n",
       "98        0.98    0     0  486  1374\n",
       "99        0.99    0     0  486  1374\n",
       "100       1.00    0     0  486  1374\n",
       "\n",
       "[101 rows x 5 columns]"
      ]
     },
     "execution_count": 37,
     "metadata": {},
     "output_type": "execute_result"
    }
   ],
   "source": [
    "df_scores"
   ]
  },
  {
   "cell_type": "markdown",
   "id": "9d4e745e-49ee-479d-b798-6d1ead6798d1",
   "metadata": {},
   "source": [
    "可以尝试每10个打印一组数据："
   ]
  },
  {
   "cell_type": "code",
   "execution_count": 38,
   "id": "42357a1a-5f89-4c25-97ab-271a84c955f2",
   "metadata": {},
   "outputs": [
    {
     "data": {
      "text/html": [
       "<div>\n",
       "<style scoped>\n",
       "    .dataframe tbody tr th:only-of-type {\n",
       "        vertical-align: middle;\n",
       "    }\n",
       "\n",
       "    .dataframe tbody tr th {\n",
       "        vertical-align: top;\n",
       "    }\n",
       "\n",
       "    .dataframe thead th {\n",
       "        text-align: right;\n",
       "    }\n",
       "</style>\n",
       "<table border=\"1\" class=\"dataframe\">\n",
       "  <thead>\n",
       "    <tr style=\"text-align: right;\">\n",
       "      <th></th>\n",
       "      <th>Threshold</th>\n",
       "      <th>tp</th>\n",
       "      <th>fp</th>\n",
       "      <th>fn</th>\n",
       "      <th>tn</th>\n",
       "    </tr>\n",
       "  </thead>\n",
       "  <tbody>\n",
       "    <tr>\n",
       "      <th>0</th>\n",
       "      <td>0.0</td>\n",
       "      <td>486</td>\n",
       "      <td>1374</td>\n",
       "      <td>0</td>\n",
       "      <td>0</td>\n",
       "    </tr>\n",
       "    <tr>\n",
       "      <th>10</th>\n",
       "      <td>0.1</td>\n",
       "      <td>458</td>\n",
       "      <td>726</td>\n",
       "      <td>28</td>\n",
       "      <td>648</td>\n",
       "    </tr>\n",
       "    <tr>\n",
       "      <th>20</th>\n",
       "      <td>0.2</td>\n",
       "      <td>421</td>\n",
       "      <td>512</td>\n",
       "      <td>65</td>\n",
       "      <td>862</td>\n",
       "    </tr>\n",
       "    <tr>\n",
       "      <th>30</th>\n",
       "      <td>0.3</td>\n",
       "      <td>380</td>\n",
       "      <td>350</td>\n",
       "      <td>106</td>\n",
       "      <td>1024</td>\n",
       "    </tr>\n",
       "    <tr>\n",
       "      <th>40</th>\n",
       "      <td>0.4</td>\n",
       "      <td>337</td>\n",
       "      <td>257</td>\n",
       "      <td>149</td>\n",
       "      <td>1117</td>\n",
       "    </tr>\n",
       "    <tr>\n",
       "      <th>50</th>\n",
       "      <td>0.5</td>\n",
       "      <td>289</td>\n",
       "      <td>172</td>\n",
       "      <td>197</td>\n",
       "      <td>1202</td>\n",
       "    </tr>\n",
       "    <tr>\n",
       "      <th>60</th>\n",
       "      <td>0.6</td>\n",
       "      <td>200</td>\n",
       "      <td>105</td>\n",
       "      <td>286</td>\n",
       "      <td>1269</td>\n",
       "    </tr>\n",
       "    <tr>\n",
       "      <th>70</th>\n",
       "      <td>0.7</td>\n",
       "      <td>99</td>\n",
       "      <td>34</td>\n",
       "      <td>387</td>\n",
       "      <td>1340</td>\n",
       "    </tr>\n",
       "    <tr>\n",
       "      <th>80</th>\n",
       "      <td>0.8</td>\n",
       "      <td>7</td>\n",
       "      <td>1</td>\n",
       "      <td>479</td>\n",
       "      <td>1373</td>\n",
       "    </tr>\n",
       "    <tr>\n",
       "      <th>90</th>\n",
       "      <td>0.9</td>\n",
       "      <td>0</td>\n",
       "      <td>0</td>\n",
       "      <td>486</td>\n",
       "      <td>1374</td>\n",
       "    </tr>\n",
       "    <tr>\n",
       "      <th>100</th>\n",
       "      <td>1.0</td>\n",
       "      <td>0</td>\n",
       "      <td>0</td>\n",
       "      <td>486</td>\n",
       "      <td>1374</td>\n",
       "    </tr>\n",
       "  </tbody>\n",
       "</table>\n",
       "</div>"
      ],
      "text/plain": [
       "     Threshold   tp    fp   fn    tn\n",
       "0          0.0  486  1374    0     0\n",
       "10         0.1  458   726   28   648\n",
       "20         0.2  421   512   65   862\n",
       "30         0.3  380   350  106  1024\n",
       "40         0.4  337   257  149  1117\n",
       "50         0.5  289   172  197  1202\n",
       "60         0.6  200   105  286  1269\n",
       "70         0.7   99    34  387  1340\n",
       "80         0.8    7     1  479  1373\n",
       "90         0.9    0     0  486  1374\n",
       "100        1.0    0     0  486  1374"
      ]
     },
     "execution_count": 38,
     "metadata": {},
     "output_type": "execute_result"
    }
   ],
   "source": [
    "df_scores[::10]"
   ]
  },
  {
   "cell_type": "markdown",
   "id": "089dea21-e626-4c15-b0c0-9f5896b72543",
   "metadata": {},
   "source": [
    "接着开始计算TPR和FPR分数："
   ]
  },
  {
   "cell_type": "code",
   "execution_count": 39,
   "id": "bffb6721-fa5a-4592-b317-54f11b8d7ea1",
   "metadata": {},
   "outputs": [],
   "source": [
    "# TPR是True在所有True中的比例\n",
    "# 所有True是TP和FN的相加结果，TP是True并且被判定为True的，FN则是False Negative，也就是实际上是True，但是被判定为Negative的\n",
    "df_scores['tpr'] = df_scores.tp / (df_scores.tp + df_scores.fn)\n",
    "df_scores['fpr'] = df_scores.fp / (df_scores.fp + df_scores.tn)"
   ]
  },
  {
   "cell_type": "code",
   "execution_count": 40,
   "id": "aa49780f-2a12-4c39-b945-ea5661a2691e",
   "metadata": {},
   "outputs": [
    {
     "data": {
      "text/plain": [
       "0      1.000000\n",
       "1      0.993827\n",
       "2      0.989712\n",
       "3      0.983539\n",
       "4      0.983539\n",
       "         ...   \n",
       "96     0.000000\n",
       "97     0.000000\n",
       "98     0.000000\n",
       "99     0.000000\n",
       "100    0.000000\n",
       "Name: tpr, Length: 101, dtype: float64"
      ]
     },
     "execution_count": 40,
     "metadata": {},
     "output_type": "execute_result"
    }
   ],
   "source": [
    "df_scores.tpr"
   ]
  },
  {
   "cell_type": "code",
   "execution_count": 41,
   "id": "af42c66f-2c94-4493-ba11-210573e32c5c",
   "metadata": {},
   "outputs": [
    {
     "data": {
      "text/plain": [
       "0      1.000000\n",
       "1      0.866084\n",
       "2      0.781659\n",
       "3      0.735808\n",
       "4      0.705968\n",
       "         ...   \n",
       "96     0.000000\n",
       "97     0.000000\n",
       "98     0.000000\n",
       "99     0.000000\n",
       "100    0.000000\n",
       "Name: fpr, Length: 101, dtype: float64"
      ]
     },
     "execution_count": 41,
     "metadata": {},
     "output_type": "execute_result"
    }
   ],
   "source": [
    "df_scores.fpr"
   ]
  },
  {
   "cell_type": "markdown",
   "id": "94e79631-1839-4463-a604-f50441a358b9",
   "metadata": {},
   "source": [
    "开始进行绘制："
   ]
  },
  {
   "cell_type": "code",
   "execution_count": 42,
   "id": "37812a9c-6d7c-40ca-ab57-54172bf0f5f5",
   "metadata": {},
   "outputs": [
    {
     "data": {
      "text/plain": [
       "<matplotlib.legend.Legend at 0x19111387850>"
      ]
     },
     "execution_count": 42,
     "metadata": {},
     "output_type": "execute_result"
    },
    {
     "data": {
      "image/png": "[encoded data removed]",
      "text/plain": [
       "<Figure size 640x480 with 1 Axes>"
      ]
     },
     "metadata": {},
     "output_type": "display_data"
    }
   ],
   "source": [
    "plt.plot(df_scores.Threshold, df_scores.tpr, label = 'TPR')\n",
    "plt.plot(df_scores.Threshold, df_scores.fpr, label = 'FPR')\n",
    "plt.legend()"
   ]
  },
  {
   "cell_type": "markdown",
   "id": "0ec8bb08-d8d9-478c-ba9f-5284c6e6d865",
   "metadata": {},
   "source": [
    "TPR和FPR都是从0开始的，因为在阈值为0的情况之下，每个顾客都是会流失的。\n",
    "- FPR是100%，因为在预测中只有假正例。其中，没有真负例：灭有人会被预测为不流失\n",
    "- TPR是100%，因为只有真正例，没有假负例\n",
    "\n",
    "随着阈值的增长，这两个指标都会以不同的速度下降。"
   ]
  },
  {
   "cell_type": "markdown",
   "id": "82f65b6d-fa77-47d0-a379-5c216f7dff1c",
   "metadata": {},
   "source": [
    "理想的情况之下，FPR会快速下降，较小的FPR值表明该模型在预测负例的时候会很少出错。"
   ]
  },
  {
   "cell_type": "markdown",
   "id": "3e06483b-9dec-416c-85b6-63147e8c2800",
   "metadata": {},
   "source": [
    "理想的情况之下，TPR会缓慢下降，而且会保持在100%附近，这意味着该模型能够很好的预测真正例。"
   ]
  },
  {
   "cell_type": "markdown",
   "id": "cb0a325d-0cb0-4d9a-8d76-4e57e4bcff8c",
   "metadata": {},
   "source": [
    "为了更加的全面的理解TPR和FPR的含义，可以将它与两个基准线模型进行比较：随机模型和理想模型。"
   ]
  },
  {
   "cell_type": "code",
   "execution_count": 43,
   "id": "db5745dc-b66e-4340-9a04-a08b3c388bfc",
   "metadata": {},
   "outputs": [],
   "source": [
    "# 随机模型，并且是均匀随机数\n",
    "np.random.seed(1)\n",
    "y_rand = np.random.uniform(0, 1, size = len(y_val))  # 在0和1之间，并且是uniform的随机分布"
   ]
  },
  {
   "cell_type": "code",
   "execution_count": 44,
   "id": "8ae357cd-0819-482f-9d44-1b0fa875c277",
   "metadata": {},
   "outputs": [
    {
     "data": {
      "text/plain": [
       "array([4.17022005e-01, 7.20324493e-01, 1.14374817e-04, ...,\n",
       "       1.47502505e-01, 9.22638695e-01, 4.41547960e-02])"
      ]
     },
     "execution_count": 44,
     "metadata": {},
     "output_type": "execute_result"
    }
   ],
   "source": [
    "y_rand"
   ]
  },
  {
   "cell_type": "code",
   "execution_count": 45,
   "id": "96739ac3-f173-4077-9e7a-fd958d5381f2",
   "metadata": {},
   "outputs": [],
   "source": [
    "# 接下来为随机模型计算FPR和TPR\n",
    "def tpr_fpr_dataframe(y_val, y_pred):\n",
    "    # 分数列表\n",
    "    scores = []\n",
    "    # 阈值\n",
    "    thresholds = np.linspace(0, 1, 101)\n",
    "    # 开始进行循环\n",
    "    for t in thresholds:\n",
    "        tp = ((y_pred >= t) & (y_val == 1)).sum()  # 判定为True和确实也是True，得到True Positive\n",
    "        fp = ((y_pred >= t) & (y_val == 0)).sum()  # 判定为True和实际上是False，得到的是False Positive\n",
    "        fn = ((y_pred < t) & (y_val == 1)).sum()  # 判定为False和实际上是True，得到的是False Negative\n",
    "        tn = ((y_pred < t) & (y_val == 0)).sum()  # 判定为False和实际上是False，得到的是True Negative\n",
    "        scores.append((t, tp, fp , fn, tn))\n",
    "    # 混淆矩阵和转换为DataFrame\n",
    "    df_scores = pd.DataFrame(scores)\n",
    "    df_scores.columns = ['threshold', 'tp', 'fp', 'fn', 'tn']\n",
    "    # 计算TPR和FPR\n",
    "    df_scores['tpr'] = df_scores.tp / (df_scores.tp + df_scores.fn)\n",
    "    df_scores['fpr'] = df_scores.fp / (df_scores.fp + df_scores.tn)\n",
    "    # 返回DataFrame\n",
    "    return df_scores"
   ]
  },
  {
   "cell_type": "markdown",
   "id": "ed3767be-098b-468d-9bec-bbe84de020e1",
   "metadata": {},
   "source": [
    "然后开始计算："
   ]
  },
  {
   "cell_type": "code",
   "execution_count": 46,
   "id": "643394ec-d8c0-43cf-b4fc-af78556d984f",
   "metadata": {},
   "outputs": [],
   "source": [
    "df_rand = tpr_fpr_dataframe(y_val, y_rand)"
   ]
  },
  {
   "cell_type": "code",
   "execution_count": 47,
   "id": "43fe7805-2d2e-4b3c-a307-64e56e7d072d",
   "metadata": {},
   "outputs": [
    {
     "data": {
      "text/plain": [
       "<matplotlib.legend.Legend at 0x191114c0f50>"
      ]
     },
     "execution_count": 47,
     "metadata": {},
     "output_type": "execute_result"
    },
    {
     "data": {
      "image/png": "[encoded data removed]",
      "text/plain": [
       "<Figure size 640x480 with 1 Axes>"
      ]
     },
     "metadata": {},
     "output_type": "display_data"
    }
   ],
   "source": [
    "# 对其进行可视化\n",
    "plt.plot(df_rand.threshold, df_rand.tpr, label = 'TPR')\n",
    "plt.plot(df_rand.threshold, df_rand.fpr, label = 'FPR')\n",
    "plt.legend()"
   ]
  },
  {
   "cell_type": "markdown",
   "id": "bd7e7af0-9a8c-4b12-81fe-2b787fa37034",
   "metadata": {},
   "source": [
    "接着是查看一下理想模型的表现是如何的："
   ]
  },
  {
   "cell_type": "code",
   "execution_count": 48,
   "id": "e926253f-0790-4c2a-b286-666c981e10fc",
   "metadata": {},
   "outputs": [],
   "source": [
    "# 现实中没有这样的理想的模型，但是可以用来和真实的模型进行对比\n",
    "# 计算一下数据集中正例和负例的数量\n",
    "num_neg = (y_val == 0).sum()\n",
    "num_pos = (y_val == 1).sum()\n",
    "\n",
    "y_ideal = np.repeat([0, 1], [num_neg, num_pos])  # 生成一个数组，该数组首先将0重复num_neg次，然后将1重复num_pos次\n",
    "y_pred_ideal = np.linspace(0, 1, num_neg + num_pos)  # 数字从第一个单元格的增长到最后一个单元格的1\n",
    "\n",
    "df_ideal = tpr_fpr_dataframe(y_ideal, y_pred_ideal)"
   ]
  },
  {
   "cell_type": "code",
   "execution_count": 49,
   "id": "0850cf1a-31a9-4f7d-b988-d1b999229acd",
   "metadata": {},
   "outputs": [
    {
     "data": {
      "text/plain": [
       "<matplotlib.legend.Legend at 0x1911155ca10>"
      ]
     },
     "execution_count": 49,
     "metadata": {},
     "output_type": "execute_result"
    },
    {
     "data": {
      "image/png": "[encoded data removed]",
      "text/plain": [
       "<Figure size 640x480 with 1 Axes>"
      ]
     },
     "metadata": {},
     "output_type": "display_data"
    }
   ],
   "source": [
    "plt.plot(df_ideal.threshold, df_ideal.tpr, label = 'TPR')\n",
    "plt.plot(df_ideal.threshold, df_ideal.fpr, label = 'FPR')\n",
    "plt.legend()"
   ]
  },
  {
   "cell_type": "markdown",
   "id": "83f1662b-30b1-4d57-8bbc-bd39f09b3be0",
   "metadata": {},
   "source": [
    "可以发现：\n",
    "- TPR和FPR都从100%开始，到0%结束\n",
    "- 对于低于0.74的阈值，总是能够正确地将所有流失的客户归类为流失\n",
    "- 错误地将一些没有流失的客户归类为流失的客户，随着阈值的增加，越来越少的没有流失的客户被分类为流失，因此FPR下降\n",
    "- 0.74是一个理想的阈值，在这个值的时候，所有流失的客户归类为流失，所有没有流失的客户归类为没有流失，TPR为100%而FPR为0%\n",
    "- 高于了0.74之后，总是正确地分类所有没有流失的客户，所以FPR保持在0%；但是TPR开始快速的下降了"
   ]
  },
  {
   "cell_type": "markdown",
   "id": "6b724af4-c1be-49b1-a0a7-25fe0c05c3e6",
   "metadata": {},
   "source": [
    "创建ROC曲线的时候，不需要根据不同的阈值绘制FPR和TPR，而将它们相互地绘制。为了进行比较，需要将理想和随机模型添加到绘图中："
   ]
  },
  {
   "cell_type": "code",
   "execution_count": 50,
   "id": "7ae36bca-b654-4a82-b73d-faafb36a0931",
   "metadata": {},
   "outputs": [
    {
     "data": {
      "text/plain": [
       "<matplotlib.legend.Legend at 0x1911164f850>"
      ]
     },
     "execution_count": 50,
     "metadata": {},
     "output_type": "execute_result"
    },
    {
     "data": {
      "image/png": "[encoded data removed]",
      "text/plain": [
       "<Figure size 500x500 with 1 Axes>"
      ]
     },
     "metadata": {},
     "output_type": "display_data"
    }
   ],
   "source": [
    "plt.figure(figsize = (5, 5))  # 正方形，方便观察\n",
    "\n",
    "# 绘制模型和基线的ROC模型\n",
    "plt.plot(df_scores.fpr, df_scores.tpr, label = 'Model')\n",
    "plt.plot(df_rand.fpr, df_rand.tpr, label = 'Random')\n",
    "plt.plot(df_ideal.fpr, df_ideal.tpr, label = 'Ideal')\n",
    "\n",
    "# 绘制\n",
    "plt.legend()"
   ]
  },
  {
   "cell_type": "markdown",
   "id": "e7a72b06-4c86-43d3-9ef6-51303f636d7f",
   "metadata": {},
   "source": [
    "可以发现：\n",
    "- 如果是随机模型，那么线会从0开始到1，接近于直线\n",
    "- 如果是理想模型，那么线会直接上升到1（竖，100%的TPR），然后从那里一路向右衍生，直到达到了1（横，100的FPR）\n",
    "- 我们的模型应该在这两条曲线之间，并且要尽可能地接近理想曲线和原理随机曲线"
   ]
  },
  {
   "cell_type": "markdown",
   "id": "ca167b24-e533-4c3a-a39b-ae829b313ba5",
   "metadata": {},
   "source": [
    "最好在ROC模型中包含随机模型地曲线，但是更好的方法是直接绘制从（0，0）到（1，1）的直线，因为我们已经直到这个线是怎么样的了。"
   ]
  },
  {
   "cell_type": "code",
   "execution_count": 51,
   "id": "35372579-1a23-4efa-9c53-ccc20ad74a6b",
   "metadata": {},
   "outputs": [
    {
     "data": {
      "text/plain": [
       "[<matplotlib.lines.Line2D at 0x1910f1e5710>]"
      ]
     },
     "execution_count": 51,
     "metadata": {},
     "output_type": "execute_result"
    },
    {
     "data": {
      "image/png": "[encoded data removed]",
      "text/plain": [
       "<Figure size 500x500 with 1 Axes>"
      ]
     },
     "metadata": {},
     "output_type": "display_data"
    }
   ],
   "source": [
    "plt.figure(figsize = (5, 5))\n",
    "plt.plot(df_scores.fpr, df_scores.tpr)\n",
    "plt.plot([0, 1], [0, 1])"
   ]
  },
  {
   "cell_type": "markdown",
   "id": "0145a900-0317-47e4-aafd-7eea2512e02a",
   "metadata": {},
   "source": [
    "Scikit-learn的metrics包中包含了roc_curve函数："
   ]
  },
  {
   "cell_type": "code",
   "execution_count": 52,
   "id": "0f9ec226-2a20-4068-b83e-ca409522fa31",
   "metadata": {},
   "outputs": [
    {
     "data": {
      "text/plain": [
       "[<matplotlib.lines.Line2D at 0x19112767b10>]"
      ]
     },
     "execution_count": 52,
     "metadata": {},
     "output_type": "execute_result"
    },
    {
     "data": {
      "image/png": "[encoded data removed]",
      "text/plain": [
       "<Figure size 500x500 with 1 Axes>"
      ]
     },
     "metadata": {},
     "output_type": "display_data"
    }
   ],
   "source": [
    "from sklearn.metrics import roc_curve\n",
    "\n",
    "fpr, tpr, threshold = roc_curve(y_val, y_pred)\n",
    "\n",
    "plt.figure(figsize = (5, 5))\n",
    "plt.plot(fpr, tpr)\n",
    "plt.plot([0, 1], [0, 1])"
   ]
  },
  {
   "cell_type": "code",
   "execution_count": 53,
   "id": "0d3d545d-16b3-4b58-80c4-1b6e5755939e",
   "metadata": {},
   "outputs": [
    {
     "data": {
      "text/html": [
       "<div>\n",
       "<style scoped>\n",
       "    .dataframe tbody tr th:only-of-type {\n",
       "        vertical-align: middle;\n",
       "    }\n",
       "\n",
       "    .dataframe tbody tr th {\n",
       "        vertical-align: top;\n",
       "    }\n",
       "\n",
       "    .dataframe thead th {\n",
       "        text-align: right;\n",
       "    }\n",
       "</style>\n",
       "<table border=\"1\" class=\"dataframe\">\n",
       "  <thead>\n",
       "    <tr style=\"text-align: right;\">\n",
       "      <th></th>\n",
       "      <th>Threshold</th>\n",
       "      <th>fpr</th>\n",
       "      <th>tpr</th>\n",
       "    </tr>\n",
       "  </thead>\n",
       "  <tbody>\n",
       "    <tr>\n",
       "      <th>0</th>\n",
       "      <td>0.00</td>\n",
       "      <td>1.000000</td>\n",
       "      <td>1.000000</td>\n",
       "    </tr>\n",
       "    <tr>\n",
       "      <th>1</th>\n",
       "      <td>0.01</td>\n",
       "      <td>0.866084</td>\n",
       "      <td>0.993827</td>\n",
       "    </tr>\n",
       "    <tr>\n",
       "      <th>2</th>\n",
       "      <td>0.02</td>\n",
       "      <td>0.781659</td>\n",
       "      <td>0.989712</td>\n",
       "    </tr>\n",
       "    <tr>\n",
       "      <th>3</th>\n",
       "      <td>0.03</td>\n",
       "      <td>0.735808</td>\n",
       "      <td>0.983539</td>\n",
       "    </tr>\n",
       "    <tr>\n",
       "      <th>4</th>\n",
       "      <td>0.04</td>\n",
       "      <td>0.705968</td>\n",
       "      <td>0.983539</td>\n",
       "    </tr>\n",
       "    <tr>\n",
       "      <th>...</th>\n",
       "      <td>...</td>\n",
       "      <td>...</td>\n",
       "      <td>...</td>\n",
       "    </tr>\n",
       "    <tr>\n",
       "      <th>96</th>\n",
       "      <td>0.96</td>\n",
       "      <td>0.000000</td>\n",
       "      <td>0.000000</td>\n",
       "    </tr>\n",
       "    <tr>\n",
       "      <th>97</th>\n",
       "      <td>0.97</td>\n",
       "      <td>0.000000</td>\n",
       "      <td>0.000000</td>\n",
       "    </tr>\n",
       "    <tr>\n",
       "      <th>98</th>\n",
       "      <td>0.98</td>\n",
       "      <td>0.000000</td>\n",
       "      <td>0.000000</td>\n",
       "    </tr>\n",
       "    <tr>\n",
       "      <th>99</th>\n",
       "      <td>0.99</td>\n",
       "      <td>0.000000</td>\n",
       "      <td>0.000000</td>\n",
       "    </tr>\n",
       "    <tr>\n",
       "      <th>100</th>\n",
       "      <td>1.00</td>\n",
       "      <td>0.000000</td>\n",
       "      <td>0.000000</td>\n",
       "    </tr>\n",
       "  </tbody>\n",
       "</table>\n",
       "<p>101 rows × 3 columns</p>\n",
       "</div>"
      ],
      "text/plain": [
       "     Threshold       fpr       tpr\n",
       "0         0.00  1.000000  1.000000\n",
       "1         0.01  0.866084  0.993827\n",
       "2         0.02  0.781659  0.989712\n",
       "3         0.03  0.735808  0.983539\n",
       "4         0.04  0.705968  0.983539\n",
       "..         ...       ...       ...\n",
       "96        0.96  0.000000  0.000000\n",
       "97        0.97  0.000000  0.000000\n",
       "98        0.98  0.000000  0.000000\n",
       "99        0.99  0.000000  0.000000\n",
       "100       1.00  0.000000  0.000000\n",
       "\n",
       "[101 rows x 3 columns]"
      ]
     },
     "execution_count": 53,
     "metadata": {},
     "output_type": "execute_result"
    }
   ],
   "source": [
    "df_scores[[\"Threshold\", 'fpr', 'tpr']]"
   ]
  },
  {
   "cell_type": "markdown",
   "id": "29f883bc-dd5f-47e5-bb8b-1d18a5b9270e",
   "metadata": {},
   "source": [
    "ROC图和这张表的内容实际上是对应的。"
   ]
  },
  {
   "cell_type": "markdown",
   "id": "948c98e6-b978-47f3-bcf7-f59cd4ddf2b2",
   "metadata": {},
   "source": [
    "关于ROC曲线：\n",
    "- 一个优秀模型的ROC曲线，首先会上升到尽可能高的水平，然后开始又拐弯\n",
    "- 一个较差模型的ROC曲线，一开始就具有较高的FPR和较低的TPR，因此，会在最开始的时候就倾向于右转"
   ]
  },
  {
   "cell_type": "code",
   "execution_count": 54,
   "id": "eea4dc1c-cb5e-40bd-a70d-125b0a2e4b68",
   "metadata": {},
   "outputs": [
    {
     "data": {
      "text/plain": [
       "<matplotlib.legend.Legend at 0x1911270f850>"
      ]
     },
     "execution_count": 54,
     "metadata": {},
     "output_type": "execute_result"
    },
    {
     "data": {
      "image/png": "[encoded data removed]",
      "text/plain": [
       "<Figure size 500x500 with 1 Axes>"
      ]
     },
     "metadata": {},
     "output_type": "display_data"
    }
   ],
   "source": [
    "# 绘制\n",
    "fpr_large, tpr_large,  _ = roc_curve(y_val, y_pred)\n",
    "fpr_small, tpr_small, _ = roc_curve(y_val, y_pred_small)\n",
    "\n",
    "# 可视化设置\n",
    "plt.figure(figsize = (5, 5))\n",
    "\n",
    "# 参数\n",
    "plt.plot(fpr_large, tpr_large, color = 'black', label = 'Large')\n",
    "plt.plot(fpr_small, tpr_small, color = 'black', label = 'small')\n",
    "plt.plot([0, 1], [0, 1])\n",
    "plt.legend()"
   ]
  },
  {
   "cell_type": "markdown",
   "id": "581aec35-1f4b-480a-a918-afc06ad5dd1b",
   "metadata": {},
   "source": [
    "从结果上来讲，可以认为Large Model的效果更好，因为它更晚的开始进行右拐，更加的接近理想模型。"
   ]
  },
  {
   "cell_type": "markdown",
   "id": "584283a1-82e5-43aa-ad02-82998038f897",
   "metadata": {},
   "source": [
    "关于ROC曲线的描述。"
   ]
  },
  {
   "cell_type": "markdown",
   "id": "b78ec317-1b24-480e-a5a4-30032e4d479c",
   "metadata": {},
   "source": [
    "ROC（Receiver Operating Characteristic，受试者工作特征曲线）是一种用于评估二分类模型性能的图形工具。它以真阳性率（True Positive Rate，又称为召回率）作为纵坐标，以假阳性率（False Positive Rate）作为横坐标，展示了在不同分类阈值下模型的性能。\n",
    "\n",
    "真阳性率（TPR）是指被正确地预测为正例的正例数量与所有真正例的比率，即：\n",
    "\n",
    "$TPR = \\frac{TP}{TP + FN}$\n",
    "\n",
    "其中，TP 表示真正例（模型正确预测为正例的样本数量），FN 表示假阴性（模型错误预测为负例的正例数量）。\n",
    "\n",
    "假阳性率（FPR）是指被错误地预测为正例的负例数量与所有真负例的比率，即：\n",
    "\n",
    "$FPR = \\frac{FP}{FP + TN}$\n",
    "\n",
    "其中，FP 表示假正例（模型错误预测为正例的负例数量），TN 表示真负例（模型正确预测为负例的负例数量）。\n",
    "\n",
    "ROC 曲线将不同阈值下的 TPR 和 FPR 连接起来，形成一条曲线。理想情况下，ROC 曲线越靠近左上角（TPR 高，FPR 低），说明模型性能越好。ROC 曲线下的面积（AUC-ROC）越大，表示模型在各种阈值下的性能越好。\n",
    "\n",
    "现实例子：\n",
    "假设我们有一个医学测试，用于检测某种罕见疾病。我们希望测试能够尽可能地准确地识别出患病者，同时尽量避免将健康人误诊为患病者。我们利用ROC曲线来评估该测试的性能。\n",
    "\n",
    "在这个例子中，ROC 曲线的横轴是假阳性率（FPR），表示健康人被误诊为患病者的比率。纵轴是真阳性率（TPR），表示患病者被正确诊断的比率。通过观察 ROC 曲线，我们可以评估测试在不同阈值下的表现。如果曲线向左上角凸起，说明测试在识别患病者方面表现良好，并且对健康人的误诊率较低。而 AUC-ROC 的值越接近1，表示测试的性能越好。"
   ]
  },
  {
   "cell_type": "markdown",
   "id": "2d1b8c2d-9d3d-4a3f-891b-5888a3b64a33",
   "metadata": {},
   "source": [
    "# AUC分数"
   ]
  },
  {
   "cell_type": "markdown",
   "id": "e1d4ae28-9842-422e-8e33-92820217aaa1",
   "metadata": {},
   "source": [
    "ROC曲线是非常的好用的，但是还有另外一个基于这个曲线的指标：AUC。"
   ]
  },
  {
   "cell_type": "markdown",
   "id": "8a28a3ce-dd90-4e6f-994f-3004a4303b48",
   "metadata": {},
   "source": [
    "当使用ROC曲线评估模型的时候，我们希望它们尽可能地接近理想点和原理随机基准线。"
   ]
  },
  {
   "cell_type": "markdown",
   "id": "5ca99a37-56bf-4c27-9aee-e2472d661efd",
   "metadata": {},
   "source": [
    "我们可以通过测量ROC曲线下面地面积来量化这种“贴近度”，可以使用AU ROC（通常称为：AUC）作为评估二元分类模型地性能指标。"
   ]
  },
  {
   "cell_type": "markdown",
   "id": "b4755924-f280-47c4-9e1e-ecdd352160d5",
   "metadata": {},
   "source": [
    "对于理想地模型而言，是一个1*1的正方形，因此ROC曲线下面的面积是1，也就是100%。而随机模型，则是半对半错，所以得到的结果应该是0.5。"
   ]
  },
  {
   "cell_type": "markdown",
   "id": "86f54735-a565-43fd-a8a4-eac3e19a2333",
   "metadata": {},
   "source": [
    "大模型和小模型都是基于100%和50%之间。"
   ]
  },
  {
   "cell_type": "markdown",
   "id": "ad8b3c94-b1bc-4720-803a-8b3e97ea8c52",
   "metadata": {},
   "source": [
    "一个对于AUC的值的通常的判断：\n",
    "- 90%：模型的表现相当的好\n",
    "- 80%：表现的还不错\n",
    "- 70%：表现的不是非常好\n",
    "- 60%：表现的比较差"
   ]
  },
  {
   "cell_type": "code",
   "execution_count": 55,
   "id": "7e1d137e-9bee-400d-a53d-f6d4798ed70f",
   "metadata": {},
   "outputs": [
    {
     "data": {
      "text/plain": [
       "0.8359001084215382"
      ]
     },
     "execution_count": 55,
     "metadata": {},
     "output_type": "execute_result"
    }
   ],
   "source": [
    "from sklearn.metrics import auc\n",
    "auc(df_scores.fpr, df_scores.tpr)"
   ]
  },
  {
   "cell_type": "markdown",
   "id": "5c85e8f8-de4e-4080-96e9-10b381668d48",
   "metadata": {},
   "source": [
    "对于大模型而言，AUC的分数为84%，可以认为表现的比较好。"
   ]
  },
  {
   "cell_type": "markdown",
   "id": "28363965-4c9b-48bc-a587-06b80c502588",
   "metadata": {},
   "source": [
    "如果只需要AUC，就不需要计算ROC曲线，可以这样做："
   ]
  },
  {
   "cell_type": "code",
   "execution_count": 56,
   "id": "4a0275c7-bdc3-468e-9c92-fb81868836b4",
   "metadata": {},
   "outputs": [
    {
     "data": {
      "text/plain": [
       "0.8363396349608545"
      ]
     },
     "execution_count": 56,
     "metadata": {},
     "output_type": "execute_result"
    }
   ],
   "source": [
    "from sklearn.metrics import roc_auc_score\n",
    "roc_auc_score(y_val, y_pred)"
   ]
  },
  {
   "cell_type": "markdown",
   "id": "48fbfcbd-2786-4af0-a00d-0a5e6c956791",
   "metadata": {},
   "source": [
    "来自roc_auc_score的值可能与通过DataFrame得到的TPR和FPR再计算出的AUC略有不同：Scikit-learn内部使用了一种更加精确的方法来获得和创建ROC曲线。"
   ]
  },
  {
   "cell_type": "markdown",
   "id": "f5589fea-2c2a-46b4-9214-185f7b0a3a06",
   "metadata": {},
   "source": [
    "我们希望：模型对流失客户的评分高于未流失客户。\n",
    "\n",
    "AUC显示发生这种情况的概率：随机选择的流失客户的分数高于随机选择的未流失客户的分数的概率。"
   ]
  },
  {
   "cell_type": "code",
   "execution_count": 57,
   "id": "ddf1fb11-6b65-46bc-8a60-1fd6ffd9c922",
   "metadata": {},
   "outputs": [
    {
     "data": {
      "text/plain": [
       "0.8356"
      ]
     },
     "execution_count": 57,
     "metadata": {},
     "output_type": "execute_result"
    }
   ],
   "source": [
    "# 验证：重复做这个实验10 000次\n",
    "# 选择所有没有流失客户的分数\n",
    "neg = y_pred[y_val == 0]\n",
    "pos = y_pred[y_val == 1]\n",
    "# 随机数的固定种子\n",
    "np.random.seed(1)\n",
    "# 随机选择10 000个例子\n",
    "neg_choice = np.random.randint(low = 0, high = len(neg), size = 10000)\n",
    "pos_choice = np.random.randint(low = 0, high = len(pos), size = 10000)\n",
    "# 检查\n",
    "(pos[pos_choice] > neg[neg_choice]).mean()  # 对于每个正例，检查分数是否高于相应的负例"
   ]
  },
  {
   "cell_type": "markdown",
   "id": "3f4ebece-5acc-454f-a5f1-6c4e259d6e1a",
   "metadata": {},
   "source": [
    "# 参数调优"
   ]
  },
  {
   "cell_type": "markdown",
   "id": "b1c30ab9-3b83-485d-a55c-c7447c47f541",
   "metadata": {},
   "source": [
    "在先前的一章中，部分数据被留了出来作为了验证集。这种方法很好，但是并不总能够表示所有情况，而是只能够显示在这些数据点上的表现是如何的。"
   ]
  },
  {
   "attachments": {
    "6802ec50-5813-43ee-afde-69f8b060d3c8.png": {
     "image/png": "[encoded data removed]"
    }
   },
   "cell_type": "markdown",
   "id": "40ac3b32-7dc0-4c3a-aaf6-e26dbc58a86c",
   "metadata": {},
   "source": [
    "![image.png](attachment:6802ec50-5813-43ee-afde-69f8b060d3c8.png)"
   ]
  },
  {
   "cell_type": "markdown",
   "id": "82a9d26c-3bc7-4408-bb9e-8525cb241119",
   "metadata": {},
   "source": [
    "我们可以使用所有可用的数据来评估模型的质量，从而得到一个更加可靠的验证结果。"
   ]
  },
  {
   "cell_type": "markdown",
   "id": "247b1392-1062-4ed3-be14-2578a73ec0a1",
   "metadata": {},
   "source": [
    "首先，将整个数据集拆分为一定数量的部分，比如说3个部分。然后在两个部分上训练模型并且在剩下的另一个部分上进行验证。\n",
    "\n",
    "重复这个过程3次，最后得到3个不同的分数。"
   ]
  },
  {
   "cell_type": "code",
   "execution_count": 58,
   "id": "8a4313b0-52eb-4ec3-bd08-d18777b53c7d",
   "metadata": {},
   "outputs": [],
   "source": [
    "# 将训练过程进行打包\n",
    "def train(df, y):\n",
    "    # 独热编码\n",
    "    cat = df[categorical + numerical].to_dict(orient = 'records')\n",
    "    dv = DictVectorizer(sparse = False)\n",
    "    dv.fit(cat)\n",
    "    X = dv.transform(cat)\n",
    "    # 训练模型\n",
    "    model = LogisticRegression(solver = 'liblinear')\n",
    "    model.fit(X, y)\n",
    "    # 返回结果\n",
    "    return dv, model"
   ]
  },
  {
   "cell_type": "code",
   "execution_count": 59,
   "id": "ddb73651-890a-4ac3-837f-189817159b86",
   "metadata": {},
   "outputs": [],
   "source": [
    "# 将预测过程进行打包\n",
    "def predict(df, dv, model):\n",
    "    cat = df[categorical + numerical].to_dict(orient = 'records')\n",
    "    X = dv.transform(cat)\n",
    "    y_pred = model.predict_proba(X)[:, 1]\n",
    "    return y_pred"
   ]
  },
  {
   "cell_type": "code",
   "execution_count": 60,
   "id": "94db325b-84eb-4fee-a64f-537c8d76dcdb",
   "metadata": {},
   "outputs": [],
   "source": [
    "from sklearn.model_selection import KFold\n",
    " \n",
    "kfold = KFold(n_splits=10, shuffle=True, random_state=1)\n",
    " \n",
    "aucs = []\n",
    " \n",
    "for train_idx, val_idx in kfold.split(df_train_full):\n",
    "    df_train = df_train_full.iloc[train_idx]\n",
    "    df_val = df_train_full.iloc[val_idx]\n",
    " \n",
    "    y_train = df_train.churn.values\n",
    "    y_val = df_val.churn.values\n",
    "    dv, model = train(df_train, y_train)\n",
    "    y_pred = predict(df_val, dv, model)\n",
    " \n",
    "    auc = roc_auc_score(y_val, y_pred)\n",
    "    aucs.append(auc)"
   ]
  },
  {
   "cell_type": "markdown",
   "id": "896531c6-d177-49c3-91dd-c28efad2cb1e",
   "metadata": {},
   "source": [
    "在上述代码中；\n",
    "\n",
    "```python\n",
    "kfold = KFold(n_splits=10, shuffle=True, random_state=1)\n",
    "```\n",
    "\n",
    "n_splits = 10的作用在于：规定划分了10份，shuffle=True则是要求在划分数据之前将其打乱，random_state = 1则是规定了随机数种子。"
   ]
  },
  {
   "cell_type": "markdown",
   "id": "ac5f4b5c-a4d3-4079-9eab-b1b5538e15c1",
   "metadata": {},
   "source": [
    "查看一下结果："
   ]
  },
  {
   "cell_type": "code",
   "execution_count": 61,
   "id": "2b4b346a-bf23-4215-8247-8bf9593a3354",
   "metadata": {},
   "outputs": [
    {
     "data": {
      "text/plain": [
       "[0.8493392490816277,\n",
       " 0.8413366336633662,\n",
       " 0.8590269587894291,\n",
       " 0.8330260883877869,\n",
       " 0.8242555831265509,\n",
       " 0.840959040959041,\n",
       " 0.8437154021491371,\n",
       " 0.8243595825426946,\n",
       " 0.8450570623981029,\n",
       " 0.8611811367685119]"
      ]
     },
     "execution_count": 61,
     "metadata": {},
     "output_type": "execute_result"
    }
   ],
   "source": [
    "aucs"
   ]
  },
  {
   "cell_type": "markdown",
   "id": "587f4925-7b12-49d1-8940-e57a80026142",
   "metadata": {},
   "source": [
    "可以将这些数字视作是模型的AUC分数的分布。"
   ]
  },
  {
   "cell_type": "code",
   "execution_count": 62,
   "id": "d59c0c20-0739-464e-8e9d-277634a450f9",
   "metadata": {},
   "outputs": [
    {
     "name": "stdout",
     "output_type": "stream",
     "text": [
      "auc = 0.842 ± 0.012\n"
     ]
    }
   ],
   "source": [
    "# 基于分布，可以查看均值和标准差等统计数据\n",
    "print('auc = %0.3f ± %0.3f' % (np.mean(aucs), np.std(aucs)))"
   ]
  },
  {
   "cell_type": "markdown",
   "id": "192f079a-9922-4339-be9b-fc4b2b84eec2",
   "metadata": {},
   "source": [
    "这个结果表示通过 K 折交叉验证（K-Fold Cross Validation）得到的模型的 AUC（曲线下面积）的平均值为 0.842，并且其标准差为 0.012。在这种情况下，K-Fold Cross Validation 将数据集分成了 10 份（n_splits = 10），进行了 10 次模型训练和评估。每次训练都使用其中的 K-1 份作为训练集，剩余的 1 份作为验证集，然后计算模型在验证集上的 AUC 值。\n",
    "\n",
    "这个结果的平均值表示了模型在不同验证集上的性能的平均水平，而标准差表示了这些性能值的变化程度，即模型性能的稳定性。更小的标准差通常表示模型在不同验证集上的性能差异较小，模型的泛化能力较强。\n",
    "\n",
    "因此，这个结果告诉我们，在这个数据集上，模型的平均性能为 0.842，但在不同的验证集上，模型的性能可能会有大约 ±0.012 的波动。"
   ]
  },
  {
   "cell_type": "markdown",
   "id": "b3019013-00a0-457f-8053-be08332ddd61",
   "metadata": {},
   "source": [
    "之前训练的模型使用参数C的默认值，它主要控制正则化的数量。"
   ]
  },
  {
   "cell_type": "code",
   "execution_count": 63,
   "id": "61a5fe78-41b2-4d4b-b02a-0ccf9e0c2a74",
   "metadata": {},
   "outputs": [],
   "source": [
    "# 这里添加了另外一个参数C，C用来进行正则化\n",
    "def train(df, y, C):\n",
    "    cat = df[categorical + numerical].to_dict(orient='records')\n",
    "    dv = DictVectorizer(sparse=False)\n",
    "    dv.fit(cat)\n",
    " \n",
    "    X = dv.transform(cat)\n",
    " \n",
    "    model = LogisticRegression(solver='liblinear', C=C)\n",
    "    model.fit(X, y)\n",
    " \n",
    "    return dv, model"
   ]
  },
  {
   "cell_type": "markdown",
   "id": "803d361f-acca-4927-9595-75229a296a56",
   "metadata": {},
   "source": [
    "然后是使用交叉验证来选择最佳参数C："
   ]
  },
  {
   "cell_type": "code",
   "execution_count": 64,
   "id": "88af37e5-ef82-4bdd-b9d5-0122b0e171a1",
   "metadata": {},
   "outputs": [
    {
     "name": "stdout",
     "output_type": "stream",
     "text": [
      "C=0.001, auc = 0.825 ± 0.013\n",
      "C=0.01, auc = 0.839 ± 0.009\n",
      "C=0.1, auc = 0.841 ± 0.007\n",
      "C=0.5, auc = 0.841 ± 0.007\n",
      "C=1, auc = 0.841 ± 0.007\n",
      "C=10, auc = 0.841 ± 0.007\n"
     ]
    }
   ],
   "source": [
    "nfolds = 5\n",
    "kfold = KFold(n_splits = nfolds, shuffle = True, random_state = 1)\n",
    "\n",
    "for C in [0.001, 0.01, 0.1, 0.5, 1, 10]:\n",
    "    aucs = []\n",
    "    # kfold.split 是 KFold 对象的一个方法，用于生成 K 折交叉验证的训练集和验证集的索引\n",
    "    for train_idx, val_idx in kfold.split(df_train_full):\n",
    "        df_train = df_train_full.iloc[train_idx]\n",
    "        df_val = df_train_full.iloc[val_idx]\n",
    " \n",
    "        y_train = df_train.churn.values\n",
    "        y_val = df_val.churn.values\n",
    " \n",
    "        dv, model = train(df_train, y_train, C=C)\n",
    "        y_pred = predict(df_val, dv, model)\n",
    "  \n",
    "        auc = roc_auc_score(y_val, y_pred)\n",
    "        aucs.append(auc)\n",
    " \n",
    "    print('C=%s, auc = %0.3f ± %0.3f' % (C, np.mean(aucs), np.std(aucs)))"
   ]
  },
  {
   "cell_type": "markdown",
   "id": "42693fe8-8e0b-4d1a-a2c2-557c7ed2e1a1",
   "metadata": {},
   "source": [
    "从结果来看，在C=0.1和之后，平均AUC相同并且不再增长，并且标准差也并不再增长。"
   ]
  },
  {
   "cell_type": "markdown",
   "id": "8b1faf4c-3f13-41a9-99ee-dfe598c6a632",
   "metadata": {},
   "source": [
    "接着要做的是：在整个训练和验证数据集上训练模型，并且将其用于测试数据集以验证它确实运行良好。"
   ]
  },
  {
   "cell_type": "code",
   "execution_count": 65,
   "id": "f2245fcb-1acf-4df7-9575-925673ed4216",
   "metadata": {},
   "outputs": [
    {
     "name": "stdout",
     "output_type": "stream",
     "text": [
      "auc = 0.858\n"
     ]
    }
   ],
   "source": [
    "y_train = df_train_full.churn.values\n",
    "y_test = df_test.churn.values\n",
    "\n",
    "dv, model = train(df_train_full, y_train, C = 0.5)\n",
    "y_pred = predict(df_test, dv, model)\n",
    "\n",
    "auc = roc_auc_score(y_test, y_pred)\n",
    "print('auc = %0.3f' % auc)"
   ]
  },
  {
   "cell_type": "markdown",
   "id": "bcbe5ea3-b04a-441a-82aa-43e601c0fb5c",
   "metadata": {},
   "source": [
    "使用 K 折交叉验证（K-Fold Cross Validation）的时候，通常不需要额外将训练数据集拆分出一部分作为单独的验证集。K-Fold Cross Validation 已经将训练数据集分成了 K 份，每次都会选择其中的一份作为验证集，其余的 K-1 份作为训练集。\n",
    "\n",
    "这样做的好处是可以充分利用训练数据，同时对模型的性能进行更准确的评估。通过 K-Fold Cross Validation，我们可以对模型在不同数据集上的性能进行多次评估，并计算其平均性能，从而更好地了解模型的泛化能力。\n",
    "\n",
    "在使用 K-Fold Cross Validation 时，我们通常会将整个数据集分成 K 份，其中 K-1 份作为训练集，1 份作为验证集，重复进行 K 次训练和验证，然后将得到的性能指标进行平均。这样可以更准确地评估模型在不同数据集上的性能，减少因数据集划分不同而引入的偏差。"
   ]
  }
 ],
 "metadata": {
  "kernelspec": {
   "display_name": "Python 3 (ipykernel)",
   "language": "python",
   "name": "python3"
  },
  "language_info": {
   "codemirror_mode": {
    "name": "ipython",
    "version": 3
   },
   "file_extension": ".py",
   "mimetype": "text/x-python",
   "name": "python",
   "nbconvert_exporter": "python",
   "pygments_lexer": "ipython3",
   "version": "3.11.9"
  }
 },
 "nbformat": 4,
 "nbformat_minor": 5
}
