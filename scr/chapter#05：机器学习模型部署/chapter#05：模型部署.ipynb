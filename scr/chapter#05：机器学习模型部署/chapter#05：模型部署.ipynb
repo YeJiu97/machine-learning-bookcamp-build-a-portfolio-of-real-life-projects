{
 "cells": [
  {
   "cell_type": "markdown",
   "id": "2299c2af-13d6-4553-bfb0-f05abb991406",
   "metadata": {},
   "source": [
    "# 需要之前训练的模型"
   ]
  },
  {
   "cell_type": "markdown",
   "id": "963080ab-c631-434f-be92-fd090f992de1",
   "metadata": {},
   "source": [
    "之前的关于训练的内容："
   ]
  },
  {
   "cell_type": "code",
   "execution_count": 8,
   "id": "bb8f663b-75d1-4994-8ad0-a815182ba6bb",
   "metadata": {},
   "outputs": [],
   "source": [
    "import pandas as pd\n",
    "import numpy as np\n",
    "\n",
    "from sklearn.feature_extraction import DictVectorizer\n",
    "from sklearn.linear_model import LogisticRegression\n",
    "\n",
    "from sklearn.model_selection import train_test_split\n",
    "from sklearn.metrics import roc_auc_score"
   ]
  },
  {
   "cell_type": "code",
   "execution_count": 9,
   "id": "13cb0f63-ade4-42e7-8a3b-22ac09a60a0e",
   "metadata": {},
   "outputs": [],
   "source": [
    "df = pd.read_csv('../chapter#04/WA_Fn-UseC_-Telco-Customer-Churn.csv')\n",
    "\n",
    "df['TotalCharges'] = pd.to_numeric(df['TotalCharges'], errors='coerce')\n",
    "df['TotalCharges'] = df['TotalCharges'].fillna(0)\n",
    "\n",
    "df.columns = df.columns.str.lower().str.replace(' ', '_')\n",
    "\n",
    "string_columns = list(df.dtypes[df.dtypes == 'object'].index)\n",
    "\n",
    "for col in string_columns:\n",
    "    df[col] = df[col].str.lower().str.replace(' ', '_')\n",
    "\n",
    "df.churn = (df.churn == 'yes').astype(int)"
   ]
  },
  {
   "cell_type": "code",
   "execution_count": 10,
   "id": "d34d7b3b-ae13-43d0-b4dd-0157234c5ff6",
   "metadata": {},
   "outputs": [],
   "source": [
    "df_train_full, df_test = train_test_split(df, test_size=0.2, random_state=1)\n",
    "\n",
    "df_train_full = df_train_full.reset_index(drop=True)\n",
    "df_test = df_test.reset_index(drop=True)\n",
    "\n",
    "df_train, df_val = train_test_split(df_train_full, test_size=0.33, random_state=11)\n",
    "\n",
    "df_train = df_train.reset_index(drop=True)\n",
    "df_val = df_val.reset_index(drop=True)\n",
    "\n",
    "y_train = df_train.churn.values\n",
    "y_val = df_val.churn.values\n",
    "\n",
    "del df_train['churn']\n",
    "del df_val['churn']"
   ]
  },
  {
   "cell_type": "code",
   "execution_count": 11,
   "id": "62339a6a-41e8-4823-a924-7982ec36425d",
   "metadata": {},
   "outputs": [],
   "source": [
    "categorical = ['gender', 'seniorcitizen', 'partner', 'dependents',\n",
    "               'phoneservice', 'multiplelines', 'internetservice',\n",
    "               'onlinesecurity', 'onlinebackup', 'deviceprotection',\n",
    "               'techsupport', 'streamingtv', 'streamingmovies',\n",
    "               'contract', 'paperlessbilling', 'paymentmethod']\n",
    "numerical = ['tenure', 'monthlycharges', 'totalcharges']"
   ]
  },
  {
   "cell_type": "code",
   "execution_count": 12,
   "id": "5346ab52-353c-4947-808b-485d490179ea",
   "metadata": {},
   "outputs": [],
   "source": [
    "def train(df, y, C=1.0):\n",
    "    cat = df[categorical + numerical].to_dict(orient='records')\n",
    "    \n",
    "    dv = DictVectorizer(sparse=False)\n",
    "    dv.fit(cat)\n",
    "\n",
    "    X = dv.transform(cat)\n",
    "\n",
    "    model = LogisticRegression(solver='liblinear', C=C)\n",
    "    model.fit(X, y)\n",
    "\n",
    "    return dv, model\n",
    "\n",
    "\n",
    "def predict(df, dv, model):\n",
    "    cat = df[categorical + numerical].to_dict(orient='records')\n",
    "    \n",
    "    X = dv.transform(cat)\n",
    "\n",
    "    y_pred = model.predict_proba(X)[:, 1]\n",
    "\n",
    "    return y_pred"
   ]
  },
  {
   "cell_type": "code",
   "execution_count": 13,
   "id": "017f5dba-1de9-4eca-8bf6-2398401ae74c",
   "metadata": {},
   "outputs": [
    {
     "name": "stdout",
     "output_type": "stream",
     "text": [
      "auc = 0.858\n"
     ]
    }
   ],
   "source": [
    "y_train = df_train_full.churn.values\n",
    "y_test = df_test.churn.values\n",
    "\n",
    "dv, model = train(df_train_full, y_train, C=0.5)\n",
    "y_pred = predict(df_test, dv, model)\n",
    "\n",
    "auc = roc_auc_score(y_test, y_pred)\n",
    "print('auc = %.3f' % auc)"
   ]
  },
  {
   "cell_type": "markdown",
   "id": "225a3c23-5327-4478-bb98-84d0fc51ced9",
   "metadata": {},
   "source": [
    "用训练好的模型来进行预测："
   ]
  },
  {
   "cell_type": "code",
   "execution_count": 14,
   "id": "742d252e-852e-4cc8-957a-d5e5afa5af04",
   "metadata": {},
   "outputs": [],
   "source": [
    "customer = {\n",
    "    'customerid': '8879-zkjof',\n",
    "    'gender': 'female',\n",
    "    'seniorcitizen': 0,\n",
    "    'partner': 'no',\n",
    "    'dependents': 'no',\n",
    "    'tenure': 41,\n",
    "    'phoneservice': 'yes',\n",
    "    'multiplelines': 'no',\n",
    "    'internetservice': 'dsl',\n",
    "    'onlinesecurity': 'yes',\n",
    "    'onlinebackup': 'no',\n",
    "    'deviceprotection': 'yes',\n",
    "    'techsupport': 'yes',\n",
    "    'streamingtv': 'yes',\n",
    "    'streamingmovies': 'yes',\n",
    "    'contract': 'one_year',\n",
    "    'paperlessbilling': 'yes',\n",
    "    'paymentmethod': 'bank_transfer_(automatic)',\n",
    "    'monthlycharges': 79.85,\n",
    "    'totalcharges': 3320.75\n",
    "}"
   ]
  },
  {
   "cell_type": "code",
   "execution_count": 15,
   "id": "b3dcfd42-9609-46ae-8803-723b18440210",
   "metadata": {},
   "outputs": [
    {
     "data": {
      "text/plain": [
       "0.05960552403272276"
      ]
     },
     "execution_count": 15,
     "metadata": {},
     "output_type": "execute_result"
    }
   ],
   "source": [
    "df = pd.DataFrame([customer])\n",
    "y_pred = predict(df, dv, model)\n",
    "y_pred[0]"
   ]
  },
  {
   "cell_type": "markdown",
   "id": "c60e015d-920c-441c-ab32-4562c7f2b957",
   "metadata": {},
   "source": [
    "这意味着该客户又6%的概率会流失。"
   ]
  },
  {
   "cell_type": "code",
   "execution_count": 16,
   "id": "c121e878-d382-4ec9-9cc8-0f2013c7f3de",
   "metadata": {},
   "outputs": [],
   "source": [
    "def predict_single(customer, dv, model):\n",
    "    X = dv.transform([customer])\n",
    "    y_pred = model.predict_proba(X)[:, 1]\n",
    "    return y_pred[0]"
   ]
  },
  {
   "cell_type": "code",
   "execution_count": 18,
   "id": "7b432a5d-81ee-4daf-babc-df9480eb6222",
   "metadata": {},
   "outputs": [
    {
     "data": {
      "text/plain": [
       "0.05960552403272276"
      ]
     },
     "execution_count": 18,
     "metadata": {},
     "output_type": "execute_result"
    }
   ],
   "source": [
    "predict_single(customer, dv, model)"
   ]
  },
  {
   "cell_type": "code",
   "execution_count": 19,
   "id": "58772158-5169-4dda-88cf-414639e8c468",
   "metadata": {},
   "outputs": [],
   "source": [
    "# 使用 pickle 保存和加载模型\n",
    "import pickle\n",
    "\n",
    "with open('churn-model.bin', 'wb') as f_out:  # 指定要保存的文件\n",
    "    pickle.dump(model, f_out)  # 使用pickle保存模型到文件"
   ]
  },
  {
   "cell_type": "markdown",
   "id": "8ef0436e-444c-4525-a5d3-a7e3b3118494",
   "metadata": {},
   "source": [
    "这里打开的是churn-model.bin文件，wb的意思是write和binary，这是因为Pickle使用的是二进制格式写入文件。"
   ]
  },
  {
   "cell_type": "markdown",
   "id": "2a4d71fa-1823-4ead-8cef-1b7e376713f9",
   "metadata": {},
   "source": [
    "如果不是使用with的方法，则如下所示："
   ]
  },
  {
   "cell_type": "code",
   "execution_count": 20,
   "id": "ad85732b-dc0b-472a-8201-b674fa0d898d",
   "metadata": {},
   "outputs": [],
   "source": [
    "f_out = open('churn-model.bin', 'wb')\n",
    "pickle.dump(model, f_out)\n",
    "f_out.close()"
   ]
  },
  {
   "cell_type": "markdown",
   "id": "61dbd6c7-74f2-4722-a26a-73e33a4b3650",
   "metadata": {},
   "source": [
    "但是仅仅是保存模型是不够的，还需要保存DictVectorizer。"
   ]
  },
  {
   "cell_type": "code",
   "execution_count": 23,
   "id": "bf9779ac-3acf-45e2-b183-4df20537b782",
   "metadata": {},
   "outputs": [],
   "source": [
    "with open('churn-model.bin', 'wb') as f_out:\n",
    "    pickle.dump((dv, model), f_out)"
   ]
  },
  {
   "cell_type": "markdown",
   "id": "ea586d14-d08f-417f-9a1f-027f69e15cce",
   "metadata": {},
   "source": [
    "然后是加载模型："
   ]
  },
  {
   "cell_type": "code",
   "execution_count": 24,
   "id": "8ef7323e-dae5-4461-b848-ec9a7379a357",
   "metadata": {},
   "outputs": [],
   "source": [
    "with open('churn-model.bin', 'rb') as f_in:\n",
    "    dv, model = pickle.load(f_in)"
   ]
  },
  {
   "cell_type": "markdown",
   "id": "9f348018-fc62-4f47-8207-66e4d91a445f",
   "metadata": {},
   "source": [
    "# 本地的代码"
   ]
  },
  {
   "cell_type": "markdown",
   "id": "ef134540-0b64-46b9-8b28-f9ab9138c6ed",
   "metadata": {},
   "source": [
    "churn_serving_simple.py 程序："
   ]
  },
  {
   "cell_type": "code",
   "execution_count": 25,
   "id": "7cd5f56d-0acd-4881-a22a-05f0f0576d42",
   "metadata": {},
   "outputs": [
    {
     "name": "stdout",
     "output_type": "stream",
     "text": [
      "prediction: 0.060\n",
      "verdict: Not churn\n"
     ]
    }
   ],
   "source": [
    "import pickle\n",
    "import numpy as np\n",
    "\n",
    "\n",
    "def predict_single(customer, dv, model):\n",
    "    X = dv.transform([customer])\n",
    "    y_pred = model.predict_proba(X)[:, 1]\n",
    "    return y_pred[0]\n",
    "\n",
    "\n",
    "with open('churn-model.bin', 'rb') as f_in:\n",
    "    dv, model = pickle.load(f_in)\n",
    "\n",
    "\n",
    "customer = {\n",
    "    'customerid': '8879-zkjof',\n",
    "    'gender': 'female',\n",
    "    'seniorcitizen': 0,\n",
    "    'partner': 'no',\n",
    "    'dependents': 'no',\n",
    "    'tenure': 41,\n",
    "    'phoneservice': 'yes',\n",
    "    'multiplelines': 'no',\n",
    "    'internetservice': 'dsl',\n",
    "    'onlinesecurity': 'yes',\n",
    "    'onlinebackup': 'no',\n",
    "    'deviceprotection': 'yes',\n",
    "    'techsupport': 'yes',\n",
    "    'streamingtv': 'yes',\n",
    "    'streamingmovies': 'yes',\n",
    "    'contract': 'one_year',\n",
    "    'paperlessbilling': 'yes',\n",
    "    'paymentmethod': 'bank_transfer_(automatic)',\n",
    "    'monthlycharges': 79.85,\n",
    "    'totalcharges': 3320.75,\n",
    "}\n",
    "    \n",
    "\n",
    "prediction = predict_single(customer, dv, model)\n",
    "\n",
    "print('prediction: %.3f' % prediction)\n",
    "\n",
    "if prediction >= 0.5:\n",
    "    print('verdict: Churn')\n",
    "else:\n",
    "    print('verdict: Not churn')"
   ]
  },
  {
   "cell_type": "markdown",
   "id": "d8b37e0b-199f-44b2-8777-3f89ca1e521c",
   "metadata": {},
   "source": [
    "# 模型服务化"
   ]
  },
  {
   "cell_type": "markdown",
   "id": "5b1ee862-4c2d-48dd-9b71-5b9af0d2d10f",
   "metadata": {},
   "source": [
    "参考同个文件夹中的其他代码。"
   ]
  }
 ],
 "metadata": {
  "kernelspec": {
   "display_name": "Python 3 (ipykernel)",
   "language": "python",
   "name": "python3"
  },
  "language_info": {
   "codemirror_mode": {
    "name": "ipython",
    "version": 3
   },
   "file_extension": ".py",
   "mimetype": "text/x-python",
   "name": "python",
   "nbconvert_exporter": "python",
   "pygments_lexer": "ipython3",
   "version": "3.11.9"
  }
 },
 "nbformat": 4,
 "nbformat_minor": 5
}
