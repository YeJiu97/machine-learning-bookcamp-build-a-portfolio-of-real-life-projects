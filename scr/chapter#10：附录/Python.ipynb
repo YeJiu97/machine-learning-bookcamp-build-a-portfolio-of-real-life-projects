{
 "cells": [
  {
   "cell_type": "code",
   "execution_count": 1,
   "id": "a413dc43-dbae-4aae-be6c-3c270ded9986",
   "metadata": {},
   "outputs": [],
   "source": [
    "a = 10\n",
    "b = 'string_b'\n",
    "c = \"string_c\"\n",
    "d = 0.999"
   ]
  },
  {
   "cell_type": "code",
   "execution_count": 2,
   "id": "d4a64fb1-1bc3-44ec-9fca-d4e1f721b103",
   "metadata": {},
   "outputs": [
    {
     "name": "stdout",
     "output_type": "stream",
     "text": [
      "10 string_b string_c 0.999\n"
     ]
    }
   ],
   "source": [
    "print(a, b, c, d)"
   ]
  },
  {
   "cell_type": "code",
   "execution_count": 3,
   "id": "eb5fd754-04d8-48d8-8cbe-48c359ddd1cb",
   "metadata": {},
   "outputs": [],
   "source": [
    "t = (a, b)"
   ]
  },
  {
   "cell_type": "code",
   "execution_count": 4,
   "id": "e2d5da2b-1683-43a9-bcaf-0873bd0deed3",
   "metadata": {},
   "outputs": [
    {
     "name": "stdout",
     "output_type": "stream",
     "text": [
      "(10, 'string_b')\n"
     ]
    }
   ],
   "source": [
    "print(t)"
   ]
  },
  {
   "cell_type": "code",
   "execution_count": 5,
   "id": "dd25bb23-be39-4dd9-8e8d-00312430b2f1",
   "metadata": {},
   "outputs": [
    {
     "name": "stdout",
     "output_type": "stream",
     "text": [
      "a = 20\n",
      "b = 10\n"
     ]
    }
   ],
   "source": [
    "a = 10\n",
    "b = 20\n",
    "\n",
    "a, b = b, a\n",
    "\n",
    "print(\"a =\", a)\n",
    "print(\"b =\", b)"
   ]
  },
  {
   "cell_type": "code",
   "execution_count": 6,
   "id": "043eebf8-e428-4d19-805e-d2aaaa263b2f",
   "metadata": {},
   "outputs": [
    {
     "name": "stdout",
     "output_type": "stream",
     "text": [
      "a = 20, b = 10\n"
     ]
    }
   ],
   "source": [
    "print(\"a = %s, b = %s\" % (a, b))"
   ]
  },
  {
   "cell_type": "code",
   "execution_count": 7,
   "id": "246e4952-8d84-41d1-945e-aa887f9efe77",
   "metadata": {},
   "outputs": [
    {
     "name": "stdout",
     "output_type": "stream",
     "text": [
      "n = 0.01\n"
     ]
    }
   ],
   "source": [
    "n = 0.0099999999\n",
    "print(\"n = %.2f\" % n)"
   ]
  },
  {
   "cell_type": "code",
   "execution_count": 8,
   "id": "f7bfeb91-24c0-4922-8395-044e106ae944",
   "metadata": {},
   "outputs": [
    {
     "name": "stdout",
     "output_type": "stream",
     "text": [
      "the statement is true\n"
     ]
    }
   ],
   "source": [
    "a = 10\n",
    "\n",
    "if a >= 5:\n",
    "    print('the statement is true')\n",
    "else:\n",
    "    print('the statement is false')"
   ]
  },
  {
   "cell_type": "code",
   "execution_count": 9,
   "id": "3edb1676-603a-465b-b74e-8207686cfbbe",
   "metadata": {},
   "outputs": [
    {
     "name": "stdout",
     "output_type": "stream",
     "text": [
      "the second statement is true\n"
     ]
    }
   ],
   "source": [
    "a = 3\n",
    "\n",
    "if a >= 5:\n",
    "    print('the first statement is true')\n",
    "elif a >= 0:\n",
    "    print('the second statement is true')\n",
    "else:\n",
    "    print('both statements are false')"
   ]
  },
  {
   "cell_type": "code",
   "execution_count": 10,
   "id": "afbda68b-2fd0-458b-946d-1948bf703d60",
   "metadata": {},
   "outputs": [
    {
     "name": "stdout",
     "output_type": "stream",
     "text": [
      "0\n",
      "1\n",
      "2\n",
      "3\n",
      "4\n",
      "5\n",
      "6\n",
      "7\n",
      "8\n",
      "9\n"
     ]
    }
   ],
   "source": [
    "for i in range(10):\n",
    "    print(i)"
   ]
  },
  {
   "cell_type": "code",
   "execution_count": 11,
   "id": "a91a5a2d-c92a-460a-840b-0f5aaf578ead",
   "metadata": {},
   "outputs": [
    {
     "name": "stdout",
     "output_type": "stream",
     "text": [
      "10\n",
      "15\n",
      "20\n",
      "25\n",
      "30\n",
      "35\n",
      "40\n",
      "45\n",
      "50\n",
      "55\n",
      "60\n",
      "65\n",
      "70\n",
      "75\n",
      "80\n",
      "85\n",
      "90\n",
      "95\n"
     ]
    }
   ],
   "source": [
    "for i in range(10, 100, 5):\n",
    "    print(i)"
   ]
  },
  {
   "cell_type": "code",
   "execution_count": 12,
   "id": "360c411a-27cb-474a-893c-9ce83a661d0a",
   "metadata": {},
   "outputs": [
    {
     "name": "stdout",
     "output_type": "stream",
     "text": [
      "0\n",
      "1\n",
      "2\n",
      "3\n",
      "4\n",
      "5\n",
      "6\n"
     ]
    }
   ],
   "source": [
    "for i in range(10):\n",
    "    print(i)\n",
    "    if i > 5:\n",
    "        break"
   ]
  },
  {
   "cell_type": "code",
   "execution_count": 13,
   "id": "bca513ec-cf04-40c4-8690-8dbd66b95070",
   "metadata": {},
   "outputs": [
    {
     "name": "stdout",
     "output_type": "stream",
     "text": [
      "6\n",
      "7\n",
      "8\n",
      "9\n"
     ]
    }
   ],
   "source": [
    "for i in range(10):\n",
    "    if i <= 5:\n",
    "        continue\n",
    "    print(i)"
   ]
  },
  {
   "cell_type": "code",
   "execution_count": 14,
   "id": "d02ca3db-fc24-4303-97a4-0b3b95bf81f9",
   "metadata": {},
   "outputs": [
    {
     "name": "stdout",
     "output_type": "stream",
     "text": [
      "0\n",
      "1\n",
      "2\n",
      "3\n",
      "4\n",
      "5\n"
     ]
    }
   ],
   "source": [
    "cnt = 0 \n",
    "\n",
    "while cnt <= 5:\n",
    "    print(cnt)\n",
    "    cnt = cnt + 1"
   ]
  },
  {
   "cell_type": "code",
   "execution_count": 15,
   "id": "61720eef-3cbf-4d50-b824-7b8a9f45280a",
   "metadata": {},
   "outputs": [],
   "source": [
    "numbers = [1, 2, 3, 5, 7, 11, 13]"
   ]
  },
  {
   "cell_type": "code",
   "execution_count": 16,
   "id": "ac5c2c9c-bbe0-4ad7-b26e-ebdda00b760e",
   "metadata": {},
   "outputs": [
    {
     "name": "stdout",
     "output_type": "stream",
     "text": [
      "2\n"
     ]
    }
   ],
   "source": [
    "el = numbers[1]\n",
    "print(el)"
   ]
  },
  {
   "cell_type": "code",
   "execution_count": 17,
   "id": "401c0b0e-0814-4c51-a7c0-b0233f2ebce7",
   "metadata": {},
   "outputs": [],
   "source": [
    "numbers[1] = -2"
   ]
  },
  {
   "cell_type": "code",
   "execution_count": 18,
   "id": "161ce3ee-5460-486c-b2e8-5a0ea74b508e",
   "metadata": {},
   "outputs": [
    {
     "data": {
      "text/plain": [
       "[1, -2, 3, 5, 7, 11, 13]"
      ]
     },
     "execution_count": 18,
     "metadata": {},
     "output_type": "execute_result"
    }
   ],
   "source": [
    "numbers"
   ]
  },
  {
   "cell_type": "code",
   "execution_count": 19,
   "id": "f8d1fc41-7f7a-4158-ae81-eabd9acb0e5b",
   "metadata": {},
   "outputs": [
    {
     "name": "stdout",
     "output_type": "stream",
     "text": [
      "13 11\n"
     ]
    }
   ],
   "source": [
    "print(numbers[-1], numbers[-2])"
   ]
  },
  {
   "cell_type": "code",
   "execution_count": 20,
   "id": "8bef3efa-7744-406a-92d5-ba439d83a02d",
   "metadata": {},
   "outputs": [
    {
     "data": {
      "text/plain": [
       "[1, -2, 3, 5, 7, 11, 13, 17]"
      ]
     },
     "execution_count": 20,
     "metadata": {},
     "output_type": "execute_result"
    }
   ],
   "source": [
    "numbers.append(17)\n",
    "numbers"
   ]
  },
  {
   "cell_type": "code",
   "execution_count": 21,
   "id": "52dbe687-bcc6-4db3-9d7d-9f32f8a95888",
   "metadata": {},
   "outputs": [
    {
     "name": "stdout",
     "output_type": "stream",
     "text": [
      "1\n",
      "-2\n",
      "3\n",
      "5\n",
      "7\n",
      "11\n",
      "13\n",
      "17\n"
     ]
    }
   ],
   "source": [
    "for n in numbers:\n",
    "    print(n)"
   ]
  },
  {
   "cell_type": "code",
   "execution_count": 22,
   "id": "85c6b84b-0157-437b-9793-909ad2d96dbd",
   "metadata": {},
   "outputs": [
    {
     "name": "stdout",
     "output_type": "stream",
     "text": [
      "numbers[0] = 1\n",
      "numbers[1] = -2\n",
      "numbers[2] = 3\n",
      "numbers[3] = 5\n",
      "numbers[4] = 7\n",
      "numbers[5] = 11\n",
      "numbers[6] = 13\n",
      "numbers[7] = 17\n"
     ]
    }
   ],
   "source": [
    "for i in range(len(numbers)):\n",
    "    n = numbers[i]\n",
    "    print(\"numbers[%d] = %d\" % (i, n))"
   ]
  },
  {
   "cell_type": "code",
   "execution_count": 23,
   "id": "e045fd1b-a15f-4bfc-931c-732ab93b63f3",
   "metadata": {},
   "outputs": [
    {
     "name": "stdout",
     "output_type": "stream",
     "text": [
      "numbers[0] = 1\n",
      "numbers[1] = -2\n",
      "numbers[2] = 3\n",
      "numbers[3] = 5\n",
      "numbers[4] = 7\n",
      "numbers[5] = 11\n",
      "numbers[6] = 13\n",
      "numbers[7] = 17\n"
     ]
    }
   ],
   "source": [
    "for i, n in enumerate(numbers):\n",
    "    print(\"numbers[%d] = %d\" % (i, n))"
   ]
  },
  {
   "cell_type": "code",
   "execution_count": 24,
   "id": "b6a3805b-684c-4fcc-ae43-3e752079cb77",
   "metadata": {},
   "outputs": [
    {
     "data": {
      "text/plain": [
       "[1, 2, 3, 5, 7, 11, 13, 17]"
      ]
     },
     "execution_count": 24,
     "metadata": {},
     "output_type": "execute_result"
    }
   ],
   "source": [
    "list1 = [1, 2, 3, 5]\n",
    "list2 = [7, 11, 13, 17]\n",
    "list1 + list2"
   ]
  },
  {
   "cell_type": "code",
   "execution_count": 25,
   "id": "d3fe4a31-75fb-40b0-bfd5-f056b399deb5",
   "metadata": {},
   "outputs": [
    {
     "data": {
      "text/plain": [
       "[[1, 2, 3, 5], [7, 11, 13, 17], [19, 23, 27, 29]]"
      ]
     },
     "execution_count": 25,
     "metadata": {},
     "output_type": "execute_result"
    }
   ],
   "source": [
    "list1 = [1, 2, 3, 5]\n",
    "list2 = [7, 11, 13, 17]\n",
    "list3 = [19, 23, 27, 29]\n",
    "\n",
    "lists = [list1, list2, list3]\n",
    "\n",
    "lists"
   ]
  },
  {
   "cell_type": "code",
   "execution_count": 26,
   "id": "1056d73c-658c-437e-a130-266ab2bee494",
   "metadata": {},
   "outputs": [
    {
     "name": "stdout",
     "output_type": "stream",
     "text": [
      "[1, 2, 3, 5]\n",
      "[7, 11, 13, 17]\n",
      "[19, 23, 27, 29]\n"
     ]
    }
   ],
   "source": [
    "for l in lists:\n",
    "    print(l)"
   ]
  },
  {
   "cell_type": "code",
   "execution_count": 27,
   "id": "4bcf8780-d01a-4c59-aa93-fe10e54d4a65",
   "metadata": {},
   "outputs": [],
   "source": [
    "numbers = [1, 2, 3, 5, 7]"
   ]
  },
  {
   "cell_type": "code",
   "execution_count": 28,
   "id": "b5341988-bf7d-44e9-ac50-11faa9baad3b",
   "metadata": {},
   "outputs": [
    {
     "data": {
      "text/plain": [
       "[1, 2, 3]"
      ]
     },
     "execution_count": 28,
     "metadata": {},
     "output_type": "execute_result"
    }
   ],
   "source": [
    "top3 = numbers[0:3]\n",
    "top3"
   ]
  },
  {
   "cell_type": "code",
   "execution_count": 29,
   "id": "0a7086fb-ab8e-47b1-9688-a509a61f712e",
   "metadata": {},
   "outputs": [
    {
     "data": {
      "text/plain": [
       "[3, 5, 7]"
      ]
     },
     "execution_count": 29,
     "metadata": {},
     "output_type": "execute_result"
    }
   ],
   "source": [
    "last3 = numbers[2:]\n",
    "last3"
   ]
  },
  {
   "cell_type": "code",
   "execution_count": 30,
   "id": "9d504d1c-1399-4568-9c2c-410cf69f1c9b",
   "metadata": {},
   "outputs": [],
   "source": [
    "numbers = (1, 2, 3, 5, 7, 11, 13)"
   ]
  },
  {
   "cell_type": "code",
   "execution_count": 31,
   "id": "79ff590b-8f60-4133-8b9f-d6740bd41091",
   "metadata": {},
   "outputs": [
    {
     "ename": "TypeError",
     "evalue": "'tuple' object does not support item assignment",
     "output_type": "error",
     "traceback": [
      "\u001b[1;31m---------------------------------------------------------------------------\u001b[0m",
      "\u001b[1;31mTypeError\u001b[0m                                 Traceback (most recent call last)",
      "Cell \u001b[1;32mIn[31], line 1\u001b[0m\n\u001b[1;32m----> 1\u001b[0m \u001b[43mnumbers\u001b[49m\u001b[43m[\u001b[49m\u001b[38;5;241;43m2\u001b[39;49m\u001b[43m]\u001b[49m \u001b[38;5;241m=\u001b[39m \u001b[38;5;241m-\u001b[39m\u001b[38;5;241m2\u001b[39m\n",
      "\u001b[1;31mTypeError\u001b[0m: 'tuple' object does not support item assignment"
     ]
    }
   ],
   "source": [
    "numbers[2] = -2"
   ]
  },
  {
   "cell_type": "code",
   "execution_count": 32,
   "id": "87bd5dd7-37ce-40ae-935e-b46941a3b79e",
   "metadata": {},
   "outputs": [],
   "source": [
    "numbers = numbers + (17,)"
   ]
  },
  {
   "cell_type": "code",
   "execution_count": 33,
   "id": "89de3fad-b949-4ba2-93d2-ae9a59ffd88d",
   "metadata": {},
   "outputs": [
    {
     "data": {
      "text/plain": [
       "(1, 2, 3, 5, 7, 11, 13, 17)"
      ]
     },
     "execution_count": 33,
     "metadata": {},
     "output_type": "execute_result"
    }
   ],
   "source": [
    "numbers"
   ]
  },
  {
   "cell_type": "code",
   "execution_count": 34,
   "id": "956ecb5e-5182-4c55-94e7-7332e178d9c2",
   "metadata": {},
   "outputs": [],
   "source": [
    "numbers = {1, 2, 3, 5, 7, 11, 13}"
   ]
  },
  {
   "cell_type": "code",
   "execution_count": 35,
   "id": "f68fa6ca-47f7-4bcd-88d5-e16e8f019197",
   "metadata": {},
   "outputs": [
    {
     "name": "stdout",
     "output_type": "stream",
     "text": [
      "True\n"
     ]
    }
   ],
   "source": [
    "print(1 in numbers)"
   ]
  },
  {
   "cell_type": "code",
   "execution_count": 36,
   "id": "0a0fe6d2-b21f-4756-af8a-30c4a327107b",
   "metadata": {},
   "outputs": [],
   "source": [
    "numbers.add(17)"
   ]
  },
  {
   "cell_type": "code",
   "execution_count": 37,
   "id": "2260fc1f-edf5-4f87-8d24-7ea60b623fe4",
   "metadata": {},
   "outputs": [
    {
     "name": "stdout",
     "output_type": "stream",
     "text": [
      "1\n",
      "2\n",
      "3\n",
      "17\n",
      "5\n",
      "7\n",
      "11\n",
      "13\n"
     ]
    }
   ],
   "source": [
    "for n in numbers:\n",
    "    print(n)"
   ]
  },
  {
   "cell_type": "code",
   "execution_count": 40,
   "id": "a2e50e48-9c1a-4a2a-8c70-bebd080755a1",
   "metadata": {},
   "outputs": [],
   "source": [
    "words_to_numbers = {\n",
    "    'one': 1,\n",
    "    'two': 2,\n",
    "    'three': 3,\n",
    "}"
   ]
  },
  {
   "cell_type": "code",
   "execution_count": 41,
   "id": "0a233bfc-9c49-4cd4-831e-59cf56dc1bea",
   "metadata": {},
   "outputs": [
    {
     "name": "stdout",
     "output_type": "stream",
     "text": [
      "1\n"
     ]
    }
   ],
   "source": [
    "print(words_to_numbers['one'])"
   ]
  },
  {
   "cell_type": "code",
   "execution_count": 42,
   "id": "ea7fc28f-c021-4d79-9365-dcc902121574",
   "metadata": {},
   "outputs": [
    {
     "ename": "KeyError",
     "evalue": "'five'",
     "output_type": "error",
     "traceback": [
      "\u001b[1;31m---------------------------------------------------------------------------\u001b[0m",
      "\u001b[1;31mKeyError\u001b[0m                                  Traceback (most recent call last)",
      "Cell \u001b[1;32mIn[42], line 1\u001b[0m\n\u001b[1;32m----> 1\u001b[0m \u001b[38;5;28mprint\u001b[39m(\u001b[43mwords_to_numbers\u001b[49m\u001b[43m[\u001b[49m\u001b[38;5;124;43m'\u001b[39;49m\u001b[38;5;124;43mfive\u001b[39;49m\u001b[38;5;124;43m'\u001b[39;49m\u001b[43m]\u001b[49m)\n",
      "\u001b[1;31mKeyError\u001b[0m: 'five'"
     ]
    }
   ],
   "source": [
    "print(words_to_numbers['five'])"
   ]
  },
  {
   "cell_type": "code",
   "execution_count": 43,
   "id": "69084025-0c2c-4ad6-8a73-a5e07e09965a",
   "metadata": {},
   "outputs": [
    {
     "name": "stdout",
     "output_type": "stream",
     "text": [
      "not in the dictionary\n"
     ]
    }
   ],
   "source": [
    "if 'five' in words_to_numbers:\n",
    "    print(words_to_numbers['five'])\n",
    "else:\n",
    "    print('not in the dictionary')"
   ]
  },
  {
   "cell_type": "code",
   "execution_count": 44,
   "id": "c75b363a-bc1e-49c0-8a98-897ea3f03154",
   "metadata": {},
   "outputs": [
    {
     "name": "stdout",
     "output_type": "stream",
     "text": [
      "None\n"
     ]
    }
   ],
   "source": [
    "val = words_to_numbers.get('five')\n",
    "print(val)"
   ]
  },
  {
   "cell_type": "code",
   "execution_count": 45,
   "id": "3c0f3a37-dae8-40a2-a378-49ef3b1ca931",
   "metadata": {},
   "outputs": [
    {
     "name": "stdout",
     "output_type": "stream",
     "text": [
      "-1\n"
     ]
    }
   ],
   "source": [
    "val = words_to_numbers.get('five', -1)\n",
    "print(val)"
   ]
  },
  {
   "cell_type": "code",
   "execution_count": 46,
   "id": "e15f8acc-49ca-4632-9fae-fc0fe6b0d519",
   "metadata": {},
   "outputs": [
    {
     "name": "stdout",
     "output_type": "stream",
     "text": [
      "one: 1\n",
      "two: 2\n",
      "three: 3\n"
     ]
    }
   ],
   "source": [
    "for k in words_to_numbers.keys():\n",
    "    v = words_to_numbers[k]\n",
    "    print(\"%s: %d\" % (k, v))"
   ]
  },
  {
   "cell_type": "code",
   "execution_count": 47,
   "id": "2faa3b99-71cb-4c04-8806-14c22ff6b463",
   "metadata": {},
   "outputs": [
    {
     "name": "stdout",
     "output_type": "stream",
     "text": [
      "one: 1\n",
      "two: 2\n",
      "three: 3\n"
     ]
    }
   ],
   "source": [
    "for k, v in words_to_numbers.items():\n",
    "    print(\"%s: %d\" % (k, v))"
   ]
  },
  {
   "cell_type": "code",
   "execution_count": 48,
   "id": "46d32e06-fc75-40b0-ba3a-37357721c1d4",
   "metadata": {},
   "outputs": [],
   "source": [
    "numbers = [1, 2, 3, 5, 7]"
   ]
  },
  {
   "cell_type": "code",
   "execution_count": 49,
   "id": "12bec019-5c38-41f7-8ef5-6a19424e9a03",
   "metadata": {},
   "outputs": [
    {
     "data": {
      "text/plain": [
       "[1, 4, 9, 25, 49]"
      ]
     },
     "execution_count": 49,
     "metadata": {},
     "output_type": "execute_result"
    }
   ],
   "source": [
    "squared = [n * n for n in numbers]\n",
    "squared"
   ]
  },
  {
   "cell_type": "code",
   "execution_count": 50,
   "id": "51f6deba-50ce-46e3-a4d7-a9b099153f05",
   "metadata": {},
   "outputs": [
    {
     "data": {
      "text/plain": [
       "[25, 49]"
      ]
     },
     "execution_count": 50,
     "metadata": {},
     "output_type": "execute_result"
    }
   ],
   "source": [
    "squared = [n * n for n in numbers if n > 3]\n",
    "squared"
   ]
  },
  {
   "cell_type": "code",
   "execution_count": 51,
   "id": "8902df45-acb0-40c0-a94e-3ebe552adccd",
   "metadata": {},
   "outputs": [
    {
     "data": {
      "text/plain": [
       "{'two': 20}"
      ]
     },
     "execution_count": 51,
     "metadata": {},
     "output_type": "execute_result"
    }
   ],
   "source": [
    "result = {k: v * 10 for (k, v) in words_to_numbers.items() if v % 2 == 0}\n",
    "result"
   ]
  }
 ],
 "metadata": {
  "kernelspec": {
   "display_name": "Python 3 (ipykernel)",
   "language": "python",
   "name": "python3"
  },
  "language_info": {
   "codemirror_mode": {
    "name": "ipython",
    "version": 3
   },
   "file_extension": ".py",
   "mimetype": "text/x-python",
   "name": "python",
   "nbconvert_exporter": "python",
   "pygments_lexer": "ipython3",
   "version": "3.11.9"
  }
 },
 "nbformat": 4,
 "nbformat_minor": 5
}
